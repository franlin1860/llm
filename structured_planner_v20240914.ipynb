{
  "cells": [
    {
      "cell_type": "markdown",
      "metadata": {
        "id": "view-in-github",
        "colab_type": "text"
      },
      "source": [
        "<a href=\"https://colab.research.google.com/github/franlin1860/llm/blob/main/structured_planner_v20240914.ipynb\" target=\"_parent\"><img src=\"https://colab.research.google.com/assets/colab-badge.svg\" alt=\"Open In Colab\"/></a>"
      ]
    },
    {
      "cell_type": "markdown",
      "metadata": {
        "id": "QnDjEPdZQJOo"
      },
      "source": [
        "# Structured Planning Agent\n",
        "\n",
        "A key pattern in agents is the ability to plan. ReAct for example, uses a structured approach to decompose an input into a set of function calls and thoughts, in order to reason about a final response.\n",
        "\n",
        "However, breaking down the initial input/task into several sub-tasks can make the ReAct loop (or other reasoning loops) easier to execute.\n",
        "\n",
        "The `StructuredPlanningAgent` in LlamaIndex wraps any agent worker (ReAct, Function Calling, Chain-of-Abstraction, etc.) and decomposes an initial input into several sub-tasks. Each sub-task is represented by an input, expected outcome, and any dependendant sub-tasks that should be completed first.\n",
        "\n",
        "This notebook walks through both the high-level and low-level usage of this agent.\n",
        "\n",
        "**NOTE:** This agent leverages both structured outputs and agentic reasoning. Because of this, we would recommend a capable LLM (OpenAI, Anthropic, etc.), and open-source LLMs may struggle to plan without prompt engineering or fine-tuning."
      ]
    },
    {
      "cell_type": "markdown",
      "source": [
        "StructuredPlannerAgent 是 LlamaIndex 中的一种代理，它能够将复杂的任务分解成多个子任务，并利用工具来完成这些子任务，最终完成整个任务。\n",
        "\n",
        "工作原理：\n",
        "\n",
        "接收任务： 代理接收一个需要完成的复杂任务。\n",
        "创建计划： 代理使用 LLM 模型根据任务和可用的工具创建一个计划，该计划包含一系列子任务，每个子任务都有其预期输出和依赖关系。\n",
        "执行子任务： 代理根据计划依次执行子任务。\n",
        "对于每个子任务，代理会选择合适的工具来执行。\n",
        "工具可以是任何可以执行特定功能的对象，例如查询引擎、数据库连接器、API 调用等。\n",
        "优化计划： 在执行子任务的过程中，代理会根据已完成的子任务和其输出，使用 LLM 模型来优化剩余的计划，以确保最终目标的实现。\n",
        "返回结果： 当所有子任务都完成后，代理将返回最终结果。\n",
        "特点：\n",
        "\n",
        "结构化规划： 将复杂任务分解成多个子任务，使问题更容易解决。\n",
        "工具使用： 利用各种工具来完成子任务，扩展了代理的能力。\n",
        "计划优化： 动态调整计划，以适应不断变化的情况和新的信息。\n",
        "可解释性： 可以清晰地展示代理的推理过程和决策依据。\n",
        "优势：\n",
        "\n",
        "提高效率： 自动化复杂的任务，减少人为干预。\n",
        "减少错误： 通过结构化规划和工具使用，降低出错的可能性。\n",
        "增强能力： 可以完成比传统代理更复杂的任务。\n",
        "应用场景：\n",
        "\n",
        "如前所述，StructuredPlannerAgent 适用于需要多步骤推理和工具使用的场景，例如金融分析、客户服务、数据分析等。\n",
        "总而言之，StructuredPlannerAgent 是一种强大的代理，它可以帮助自动化复杂的任务，提高效率并减少人为错误。"
      ],
      "metadata": {
        "id": "lGfZDcCADG7x"
      }
    },
    {
      "cell_type": "markdown",
      "source": [
        "FunctionCallingAgentWorker 是 LlamaIndex 中的一种代理工作器，它允许代理使用函数调用来与外部工具进行交互，并完成任务。\n",
        "\n",
        "工作原理：\n",
        "\n",
        "接收任务： 代理将任务分配给 FunctionCallingAgentWorker。\n",
        "选择工具： FunctionCallingAgentWorker 根据任务描述和可用的工具，选择最合适的工具来执行任务。\n",
        "生成函数调用： FunctionCallingAgentWorker 使用 LLM 模型将任务转换为对所选工具的函数调用，包括函数名称和参数。\n",
        "执行函数调用： 代理执行生成的函数调用，并获取工具的输出。\n",
        "返回结果： FunctionCallingAgentWorker 将工具的输出返回给代理。\n",
        "特点：\n",
        "\n",
        "函数调用： 使用函数调用来与工具交互，更加灵活和可控。\n",
        "工具选择： 根据任务和工具描述，自动选择最合适的工具。\n",
        "代码生成： 使用 LLM 模型生成函数调用代码，无需手动编写代码。\n",
        "优势：\n",
        "\n",
        "简化工具集成： 通过函数调用，可以轻松地将各种工具集成到代理中。\n",
        "提高效率： 自动化工具选择和代码生成过程，提高代理的效率。\n",
        "增强灵活性： 可以使用不同的函数调用来完成不同的任务。\n",
        "与其他工作器的区别：\n",
        "\n",
        "ReActAgentWorker： 使用 ReAct 框架进行推理，通过一系列 \"思考\" 和 \"行动\" 步骤来完成任务。\n",
        "ChainOfAbstractionAgentWorker： 使用抽象链来分解任务，将复杂任务分解成多个更简单的子任务。\n",
        "应用场景：\n",
        "\n",
        "FunctionCallingAgentWorker 适用于可以使用函数调用来访问的工具，例如：\n",
        "查询引擎\n",
        "数据库\n",
        "API\n",
        "其他 Python 库\n",
        "总而言之，FunctionCallingAgentWorker 是一种强大的代理工作器，它允许代理通过函数调用来利用各种工具，从而完成更复杂的任务。"
      ],
      "metadata": {
        "id": "ptuGlclLDdae"
      }
    },
    {
      "cell_type": "markdown",
      "source": [
        "ReActAgentWorker 是 LlamaIndex 中的一种代理工作器，它使用 ReAct 框架来进行推理和决策，最终完成任务。 ReAct (Reason + Act) 是一种将推理和行动结合起来的代理框架，它允许代理在执行行动之前进行思考和规划。\n",
        "\n",
        "工作原理：\n",
        "\n",
        "接收任务： 代理将任务分配给 ReActAgentWorker。\n",
        "初始化状态： ReActAgentWorker 初始化代理的状态，包括当前的观察、思考和行动。\n",
        "循环推理和行动： 代理进入一个循环，在循环中进行以下步骤：\n",
        "观察： 代理观察当前的环境和可用信息。\n",
        "思考： 代理根据观察结果进行思考，例如分析问题、制定计划、评估风险等。\n",
        "行动： 代理根据思考结果选择并执行一个行动。\n",
        "更新状态： 代理更新其状态，包括观察、思考和行动的历史记录。\n",
        "重复循环： 代理重复循环，直到任务完成或达到停止条件。\n",
        "返回结果： 代理返回最终的结果或行动序列。\n",
        "特点：\n",
        "\n",
        "推理和行动结合： 将推理和行动结合起来，使代理能够更加智能地完成任务。\n",
        "迭代式改进： 通过循环推理和行动，代理可以逐步改进其解决方案。\n",
        "可解释性： 代理的思考过程和行动选择是透明的，可以进行解释和分析。\n",
        "优势：\n",
        "\n",
        "增强决策能力： 通过推理，代理可以做出更明智的决策。\n",
        "提高任务完成率： 迭代式改进可以帮助代理找到更好的解决方案。\n",
        "更好的可控性： 可以通过调整代理的思考和行动来控制其行为。\n",
        "与其他工作器的区别：\n",
        "\n",
        "FunctionCallingAgentWorker： 专注于使用函数调用来与工具交互。\n",
        "ChainOfAbstractionAgentWorker： 使用抽象链来分解任务。\n",
        "应用场景：\n",
        "\n",
        "ReActAgentWorker 适用于需要复杂推理和决策的任务，例如：\n",
        "问题解答\n",
        "代码生成\n",
        "文本摘要\n",
        "对话\n",
        "总而言之，ReActAgentWorker 是一种强大的代理工作器，它使用 ReAct 框架来进行推理和决策，使代理能够更加智能地完成复杂的任务。"
      ],
      "metadata": {
        "id": "KOKB_vXYDxY0"
      }
    },
    {
      "cell_type": "markdown",
      "source": [
        "# Prevent Disconnection"
      ],
      "metadata": {
        "id": "YHxhIh_jSHUj"
      }
    },
    {
      "cell_type": "code",
      "source": [
        "#@markdown <h3>← 输入了代码后运行以防止断开</h>\n",
        "import IPython\n",
        "from google.colab import output\n",
        "\n",
        "display(IPython.display.Javascript('''\n",
        " function ClickConnect(){\n",
        "   btn = document.querySelector(\"colab-connect-button\")\n",
        "   if (btn != null){\n",
        "     console.log(\"Click colab-connect-button\");\n",
        "     btn.click()\n",
        "     }\n",
        "\n",
        "   btn = document.getElementById('ok')\n",
        "   if (btn != null){\n",
        "     console.log(\"Click reconnect\");\n",
        "     btn.click()\n",
        "     }\n",
        "  }\n",
        "\n",
        "setInterval(ClickConnect,60000)\n",
        "'''))\n",
        "\n",
        "print(\"Done.\")"
      ],
      "metadata": {
        "colab": {
          "base_uri": "https://localhost:8080/",
          "height": 34
        },
        "id": "KLS0u0W4SLpJ",
        "outputId": "2b85df32-d2ae-4d3d-c598-996d01c130d3"
      },
      "execution_count": 2,
      "outputs": [
        {
          "output_type": "display_data",
          "data": {
            "text/plain": [
              "<IPython.core.display.Javascript object>"
            ],
            "application/javascript": [
              "\n",
              " function ClickConnect(){\n",
              "   btn = document.querySelector(\"colab-connect-button\")\n",
              "   if (btn != null){\n",
              "     console.log(\"Click colab-connect-button\");\n",
              "     btn.click()\n",
              "     }\n",
              "\n",
              "   btn = document.getElementById('ok')\n",
              "   if (btn != null){\n",
              "     console.log(\"Click reconnect\");\n",
              "     btn.click()\n",
              "     }\n",
              "  }\n",
              "\n",
              "setInterval(ClickConnect,60000)\n"
            ]
          },
          "metadata": {}
        },
        {
          "output_type": "stream",
          "name": "stdout",
          "text": [
            "Done.\n"
          ]
        }
      ]
    },
    {
      "cell_type": "code",
      "source": [
        "function ConnectButton(){\n",
        "    console.log(\"Connect pushed\");\n",
        "    document.querySelector(\"#connect\").click()\n",
        "}\n",
        "setInterval(ConnectButton,60000);"
      ],
      "metadata": {
        "id": "jmXWIl4FSS6l"
      },
      "execution_count": null,
      "outputs": []
    },
    {
      "cell_type": "markdown",
      "metadata": {
        "id": "pVAKyTcmQJOu"
      },
      "source": [
        "## Setup\n",
        "\n",
        "In order to create plans, we need a set of tools to create plans on top of. Here, we use some classic 10k examples."
      ]
    },
    {
      "cell_type": "code",
      "execution_count": 1,
      "metadata": {
        "id": "DnBdEBLJQJOu",
        "colab": {
          "base_uri": "https://localhost:8080/"
        },
        "collapsed": true,
        "outputId": "a69f4fb3-bf8f-44d2-ce38-07c2fa7898dc"
      },
      "outputs": [
        {
          "output_type": "stream",
          "name": "stdout",
          "text": [
            "--2024-09-14 02:06:08--  https://raw.githubusercontent.com/run-llama/llama_index/main/docs/docs/examples/data/10k/uber_2021.pdf\n",
            "Resolving raw.githubusercontent.com (raw.githubusercontent.com)... 185.199.109.133, 185.199.111.133, 185.199.108.133, ...\n",
            "Connecting to raw.githubusercontent.com (raw.githubusercontent.com)|185.199.109.133|:443... connected.\n",
            "HTTP request sent, awaiting response... 200 OK\n",
            "Length: 1880483 (1.8M) [application/octet-stream]\n",
            "Saving to: ‘data/10k/uber_2021.pdf’\n",
            "\n",
            "data/10k/uber_2021. 100%[===================>]   1.79M  --.-KB/s    in 0.04s   \n",
            "\n",
            "2024-09-14 02:06:09 (48.9 MB/s) - ‘data/10k/uber_2021.pdf’ saved [1880483/1880483]\n",
            "\n",
            "--2024-09-14 02:06:09--  https://raw.githubusercontent.com/run-llama/llama_index/main/docs/docs/examples/data/10k/lyft_2021.pdf\n",
            "Resolving raw.githubusercontent.com (raw.githubusercontent.com)... 185.199.111.133, 185.199.109.133, 185.199.110.133, ...\n",
            "Connecting to raw.githubusercontent.com (raw.githubusercontent.com)|185.199.111.133|:443... connected.\n",
            "HTTP request sent, awaiting response... 200 OK\n",
            "Length: 1440303 (1.4M) [application/octet-stream]\n",
            "Saving to: ‘data/10k/lyft_2021.pdf’\n",
            "\n",
            "data/10k/lyft_2021. 100%[===================>]   1.37M  --.-KB/s    in 0.04s   \n",
            "\n",
            "2024-09-14 02:06:09 (33.3 MB/s) - ‘data/10k/lyft_2021.pdf’ saved [1440303/1440303]\n",
            "\n"
          ]
        }
      ],
      "source": [
        "!mkdir -p 'data/10k/'\n",
        "!wget 'https://raw.githubusercontent.com/run-llama/llama_index/main/docs/docs/examples/data/10k/uber_2021.pdf' -O 'data/10k/uber_2021.pdf'\n",
        "!wget 'https://raw.githubusercontent.com/run-llama/llama_index/main/docs/docs/examples/data/10k/lyft_2021.pdf' -O 'data/10k/lyft_2021.pdf'"
      ]
    },
    {
      "cell_type": "markdown",
      "source": [
        "# LLM Setup"
      ],
      "metadata": {
        "id": "wC7QCO75SBbu"
      }
    },
    {
      "cell_type": "code",
      "source": [
        "!pip install llama-index\n",
        "!pip install llama_index-llms-openai_like\n",
        "!pip install llama_index-embeddings-huggingface"
      ],
      "metadata": {
        "colab": {
          "base_uri": "https://localhost:8080/"
        },
        "collapsed": true,
        "id": "tsDn0joKSspU",
        "outputId": "ffe235fa-ecbc-4a04-a422-05554ebe82dc"
      },
      "execution_count": 3,
      "outputs": [
        {
          "output_type": "stream",
          "name": "stdout",
          "text": [
            "Collecting llama-index\n",
            "  Downloading llama_index-0.11.9-py3-none-any.whl.metadata (11 kB)\n",
            "Collecting llama-index-agent-openai<0.4.0,>=0.3.1 (from llama-index)\n",
            "  Downloading llama_index_agent_openai-0.3.1-py3-none-any.whl.metadata (677 bytes)\n",
            "Collecting llama-index-cli<0.4.0,>=0.3.1 (from llama-index)\n",
            "  Downloading llama_index_cli-0.3.1-py3-none-any.whl.metadata (1.5 kB)\n",
            "Collecting llama-index-core<0.12.0,>=0.11.9 (from llama-index)\n",
            "  Downloading llama_index_core-0.11.9-py3-none-any.whl.metadata (2.4 kB)\n",
            "Collecting llama-index-embeddings-openai<0.3.0,>=0.2.4 (from llama-index)\n",
            "  Downloading llama_index_embeddings_openai-0.2.5-py3-none-any.whl.metadata (686 bytes)\n",
            "Collecting llama-index-indices-managed-llama-cloud>=0.3.0 (from llama-index)\n",
            "  Downloading llama_index_indices_managed_llama_cloud-0.3.0-py3-none-any.whl.metadata (3.8 kB)\n",
            "Collecting llama-index-legacy<0.10.0,>=0.9.48 (from llama-index)\n",
            "  Downloading llama_index_legacy-0.9.48.post3-py3-none-any.whl.metadata (8.5 kB)\n",
            "Collecting llama-index-llms-openai<0.3.0,>=0.2.3 (from llama-index)\n",
            "  Downloading llama_index_llms_openai-0.2.6-py3-none-any.whl.metadata (705 bytes)\n",
            "Collecting llama-index-multi-modal-llms-openai<0.3.0,>=0.2.0 (from llama-index)\n",
            "  Downloading llama_index_multi_modal_llms_openai-0.2.1-py3-none-any.whl.metadata (728 bytes)\n",
            "Collecting llama-index-program-openai<0.3.0,>=0.2.0 (from llama-index)\n",
            "  Downloading llama_index_program_openai-0.2.0-py3-none-any.whl.metadata (766 bytes)\n",
            "Collecting llama-index-question-gen-openai<0.3.0,>=0.2.0 (from llama-index)\n",
            "  Downloading llama_index_question_gen_openai-0.2.0-py3-none-any.whl.metadata (785 bytes)\n",
            "Collecting llama-index-readers-file<0.3.0,>=0.2.0 (from llama-index)\n",
            "  Downloading llama_index_readers_file-0.2.1-py3-none-any.whl.metadata (5.4 kB)\n",
            "Collecting llama-index-readers-llama-parse>=0.3.0 (from llama-index)\n",
            "  Downloading llama_index_readers_llama_parse-0.3.0-py3-none-any.whl.metadata (3.5 kB)\n",
            "Collecting nltk>3.8.1 (from llama-index)\n",
            "  Downloading nltk-3.9.1-py3-none-any.whl.metadata (2.9 kB)\n",
            "Collecting openai>=1.14.0 (from llama-index-agent-openai<0.4.0,>=0.3.1->llama-index)\n",
            "  Downloading openai-1.45.0-py3-none-any.whl.metadata (22 kB)\n",
            "Requirement already satisfied: PyYAML>=6.0.1 in /usr/local/lib/python3.10/dist-packages (from llama-index-core<0.12.0,>=0.11.9->llama-index) (6.0.2)\n",
            "Requirement already satisfied: SQLAlchemy>=1.4.49 in /usr/local/lib/python3.10/dist-packages (from SQLAlchemy[asyncio]>=1.4.49->llama-index-core<0.12.0,>=0.11.9->llama-index) (2.0.34)\n",
            "Requirement already satisfied: aiohttp<4.0.0,>=3.8.6 in /usr/local/lib/python3.10/dist-packages (from llama-index-core<0.12.0,>=0.11.9->llama-index) (3.10.5)\n",
            "Collecting dataclasses-json (from llama-index-core<0.12.0,>=0.11.9->llama-index)\n",
            "  Downloading dataclasses_json-0.6.7-py3-none-any.whl.metadata (25 kB)\n",
            "Collecting deprecated>=1.2.9.3 (from llama-index-core<0.12.0,>=0.11.9->llama-index)\n",
            "  Downloading Deprecated-1.2.14-py2.py3-none-any.whl.metadata (5.4 kB)\n",
            "Collecting dirtyjson<2.0.0,>=1.0.8 (from llama-index-core<0.12.0,>=0.11.9->llama-index)\n",
            "  Downloading dirtyjson-1.0.8-py3-none-any.whl.metadata (11 kB)\n",
            "Requirement already satisfied: fsspec>=2023.5.0 in /usr/local/lib/python3.10/dist-packages (from llama-index-core<0.12.0,>=0.11.9->llama-index) (2024.6.1)\n",
            "Collecting httpx (from llama-index-core<0.12.0,>=0.11.9->llama-index)\n",
            "  Downloading httpx-0.27.2-py3-none-any.whl.metadata (7.1 kB)\n",
            "Requirement already satisfied: nest-asyncio<2.0.0,>=1.5.8 in /usr/local/lib/python3.10/dist-packages (from llama-index-core<0.12.0,>=0.11.9->llama-index) (1.6.0)\n",
            "Requirement already satisfied: networkx>=3.0 in /usr/local/lib/python3.10/dist-packages (from llama-index-core<0.12.0,>=0.11.9->llama-index) (3.3)\n",
            "Requirement already satisfied: numpy<2.0.0 in /usr/local/lib/python3.10/dist-packages (from llama-index-core<0.12.0,>=0.11.9->llama-index) (1.26.4)\n",
            "Requirement already satisfied: pillow>=9.0.0 in /usr/local/lib/python3.10/dist-packages (from llama-index-core<0.12.0,>=0.11.9->llama-index) (9.4.0)\n",
            "Requirement already satisfied: pydantic<3.0.0,>=2.7.0 in /usr/local/lib/python3.10/dist-packages (from llama-index-core<0.12.0,>=0.11.9->llama-index) (2.9.1)\n",
            "Requirement already satisfied: requests>=2.31.0 in /usr/local/lib/python3.10/dist-packages (from llama-index-core<0.12.0,>=0.11.9->llama-index) (2.32.3)\n",
            "Collecting tenacity!=8.4.0,<9.0.0,>=8.2.0 (from llama-index-core<0.12.0,>=0.11.9->llama-index)\n",
            "  Downloading tenacity-8.5.0-py3-none-any.whl.metadata (1.2 kB)\n",
            "Collecting tiktoken>=0.3.3 (from llama-index-core<0.12.0,>=0.11.9->llama-index)\n",
            "  Downloading tiktoken-0.7.0-cp310-cp310-manylinux_2_17_x86_64.manylinux2014_x86_64.whl.metadata (6.6 kB)\n",
            "Requirement already satisfied: tqdm<5.0.0,>=4.66.1 in /usr/local/lib/python3.10/dist-packages (from llama-index-core<0.12.0,>=0.11.9->llama-index) (4.66.5)\n",
            "Requirement already satisfied: typing-extensions>=4.5.0 in /usr/local/lib/python3.10/dist-packages (from llama-index-core<0.12.0,>=0.11.9->llama-index) (4.12.2)\n",
            "Collecting typing-inspect>=0.8.0 (from llama-index-core<0.12.0,>=0.11.9->llama-index)\n",
            "  Downloading typing_inspect-0.9.0-py3-none-any.whl.metadata (1.5 kB)\n",
            "Requirement already satisfied: wrapt in /usr/local/lib/python3.10/dist-packages (from llama-index-core<0.12.0,>=0.11.9->llama-index) (1.16.0)\n",
            "Collecting llama-cloud>=0.0.11 (from llama-index-indices-managed-llama-cloud>=0.3.0->llama-index)\n",
            "  Downloading llama_cloud-0.0.17-py3-none-any.whl.metadata (751 bytes)\n",
            "Requirement already satisfied: pandas in /usr/local/lib/python3.10/dist-packages (from llama-index-legacy<0.10.0,>=0.9.48->llama-index) (2.1.4)\n",
            "Requirement already satisfied: beautifulsoup4<5.0.0,>=4.12.3 in /usr/local/lib/python3.10/dist-packages (from llama-index-readers-file<0.3.0,>=0.2.0->llama-index) (4.12.3)\n",
            "Collecting pypdf<5.0.0,>=4.0.1 (from llama-index-readers-file<0.3.0,>=0.2.0->llama-index)\n",
            "  Downloading pypdf-4.3.1-py3-none-any.whl.metadata (7.4 kB)\n",
            "Collecting striprtf<0.0.27,>=0.0.26 (from llama-index-readers-file<0.3.0,>=0.2.0->llama-index)\n",
            "  Downloading striprtf-0.0.26-py3-none-any.whl.metadata (2.1 kB)\n",
            "Collecting llama-parse>=0.5.0 (from llama-index-readers-llama-parse>=0.3.0->llama-index)\n",
            "  Downloading llama_parse-0.5.5-py3-none-any.whl.metadata (6.1 kB)\n",
            "Requirement already satisfied: click in /usr/local/lib/python3.10/dist-packages (from nltk>3.8.1->llama-index) (8.1.7)\n",
            "Requirement already satisfied: joblib in /usr/local/lib/python3.10/dist-packages (from nltk>3.8.1->llama-index) (1.4.2)\n",
            "Requirement already satisfied: regex>=2021.8.3 in /usr/local/lib/python3.10/dist-packages (from nltk>3.8.1->llama-index) (2024.5.15)\n",
            "Requirement already satisfied: aiohappyeyeballs>=2.3.0 in /usr/local/lib/python3.10/dist-packages (from aiohttp<4.0.0,>=3.8.6->llama-index-core<0.12.0,>=0.11.9->llama-index) (2.4.0)\n",
            "Requirement already satisfied: aiosignal>=1.1.2 in /usr/local/lib/python3.10/dist-packages (from aiohttp<4.0.0,>=3.8.6->llama-index-core<0.12.0,>=0.11.9->llama-index) (1.3.1)\n",
            "Requirement already satisfied: attrs>=17.3.0 in /usr/local/lib/python3.10/dist-packages (from aiohttp<4.0.0,>=3.8.6->llama-index-core<0.12.0,>=0.11.9->llama-index) (24.2.0)\n",
            "Requirement already satisfied: frozenlist>=1.1.1 in /usr/local/lib/python3.10/dist-packages (from aiohttp<4.0.0,>=3.8.6->llama-index-core<0.12.0,>=0.11.9->llama-index) (1.4.1)\n",
            "Requirement already satisfied: multidict<7.0,>=4.5 in /usr/local/lib/python3.10/dist-packages (from aiohttp<4.0.0,>=3.8.6->llama-index-core<0.12.0,>=0.11.9->llama-index) (6.1.0)\n",
            "Requirement already satisfied: yarl<2.0,>=1.0 in /usr/local/lib/python3.10/dist-packages (from aiohttp<4.0.0,>=3.8.6->llama-index-core<0.12.0,>=0.11.9->llama-index) (1.11.1)\n",
            "Requirement already satisfied: async-timeout<5.0,>=4.0 in /usr/local/lib/python3.10/dist-packages (from aiohttp<4.0.0,>=3.8.6->llama-index-core<0.12.0,>=0.11.9->llama-index) (4.0.3)\n",
            "Requirement already satisfied: soupsieve>1.2 in /usr/local/lib/python3.10/dist-packages (from beautifulsoup4<5.0.0,>=4.12.3->llama-index-readers-file<0.3.0,>=0.2.0->llama-index) (2.6)\n",
            "Requirement already satisfied: anyio in /usr/local/lib/python3.10/dist-packages (from httpx->llama-index-core<0.12.0,>=0.11.9->llama-index) (3.7.1)\n",
            "Requirement already satisfied: certifi in /usr/local/lib/python3.10/dist-packages (from httpx->llama-index-core<0.12.0,>=0.11.9->llama-index) (2024.8.30)\n",
            "Collecting httpcore==1.* (from httpx->llama-index-core<0.12.0,>=0.11.9->llama-index)\n",
            "  Downloading httpcore-1.0.5-py3-none-any.whl.metadata (20 kB)\n",
            "Requirement already satisfied: idna in /usr/local/lib/python3.10/dist-packages (from httpx->llama-index-core<0.12.0,>=0.11.9->llama-index) (3.8)\n",
            "Requirement already satisfied: sniffio in /usr/local/lib/python3.10/dist-packages (from httpx->llama-index-core<0.12.0,>=0.11.9->llama-index) (1.3.1)\n",
            "Collecting h11<0.15,>=0.13 (from httpcore==1.*->httpx->llama-index-core<0.12.0,>=0.11.9->llama-index)\n",
            "  Downloading h11-0.14.0-py3-none-any.whl.metadata (8.2 kB)\n",
            "Requirement already satisfied: distro<2,>=1.7.0 in /usr/lib/python3/dist-packages (from openai>=1.14.0->llama-index-agent-openai<0.4.0,>=0.3.1->llama-index) (1.7.0)\n",
            "Collecting jiter<1,>=0.4.0 (from openai>=1.14.0->llama-index-agent-openai<0.4.0,>=0.3.1->llama-index)\n",
            "  Downloading jiter-0.5.0-cp310-cp310-manylinux_2_17_x86_64.manylinux2014_x86_64.whl.metadata (3.6 kB)\n",
            "Requirement already satisfied: annotated-types>=0.6.0 in /usr/local/lib/python3.10/dist-packages (from pydantic<3.0.0,>=2.7.0->llama-index-core<0.12.0,>=0.11.9->llama-index) (0.7.0)\n",
            "Requirement already satisfied: pydantic-core==2.23.3 in /usr/local/lib/python3.10/dist-packages (from pydantic<3.0.0,>=2.7.0->llama-index-core<0.12.0,>=0.11.9->llama-index) (2.23.3)\n",
            "Requirement already satisfied: charset-normalizer<4,>=2 in /usr/local/lib/python3.10/dist-packages (from requests>=2.31.0->llama-index-core<0.12.0,>=0.11.9->llama-index) (3.3.2)\n",
            "Requirement already satisfied: urllib3<3,>=1.21.1 in /usr/local/lib/python3.10/dist-packages (from requests>=2.31.0->llama-index-core<0.12.0,>=0.11.9->llama-index) (2.0.7)\n",
            "Requirement already satisfied: greenlet!=0.4.17 in /usr/local/lib/python3.10/dist-packages (from SQLAlchemy>=1.4.49->SQLAlchemy[asyncio]>=1.4.49->llama-index-core<0.12.0,>=0.11.9->llama-index) (3.1.0)\n",
            "Collecting mypy-extensions>=0.3.0 (from typing-inspect>=0.8.0->llama-index-core<0.12.0,>=0.11.9->llama-index)\n",
            "  Downloading mypy_extensions-1.0.0-py3-none-any.whl.metadata (1.1 kB)\n",
            "Collecting marshmallow<4.0.0,>=3.18.0 (from dataclasses-json->llama-index-core<0.12.0,>=0.11.9->llama-index)\n",
            "  Downloading marshmallow-3.22.0-py3-none-any.whl.metadata (7.2 kB)\n",
            "Requirement already satisfied: python-dateutil>=2.8.2 in /usr/local/lib/python3.10/dist-packages (from pandas->llama-index-legacy<0.10.0,>=0.9.48->llama-index) (2.8.2)\n",
            "Requirement already satisfied: pytz>=2020.1 in /usr/local/lib/python3.10/dist-packages (from pandas->llama-index-legacy<0.10.0,>=0.9.48->llama-index) (2024.2)\n",
            "Requirement already satisfied: tzdata>=2022.1 in /usr/local/lib/python3.10/dist-packages (from pandas->llama-index-legacy<0.10.0,>=0.9.48->llama-index) (2024.1)\n",
            "Requirement already satisfied: exceptiongroup in /usr/local/lib/python3.10/dist-packages (from anyio->httpx->llama-index-core<0.12.0,>=0.11.9->llama-index) (1.2.2)\n",
            "Requirement already satisfied: packaging>=17.0 in /usr/local/lib/python3.10/dist-packages (from marshmallow<4.0.0,>=3.18.0->dataclasses-json->llama-index-core<0.12.0,>=0.11.9->llama-index) (24.1)\n",
            "Requirement already satisfied: six>=1.5 in /usr/local/lib/python3.10/dist-packages (from python-dateutil>=2.8.2->pandas->llama-index-legacy<0.10.0,>=0.9.48->llama-index) (1.16.0)\n",
            "Downloading llama_index-0.11.9-py3-none-any.whl (6.8 kB)\n",
            "Downloading llama_index_agent_openai-0.3.1-py3-none-any.whl (13 kB)\n",
            "Downloading llama_index_cli-0.3.1-py3-none-any.whl (27 kB)\n",
            "Downloading llama_index_core-0.11.9-py3-none-any.whl (1.6 MB)\n",
            "\u001b[2K   \u001b[90m━━━━━━━━━━━━━━━━━━━━━━━━━━━━━━━━━━━━━━━━\u001b[0m \u001b[32m1.6/1.6 MB\u001b[0m \u001b[31m33.4 MB/s\u001b[0m eta \u001b[36m0:00:00\u001b[0m\n",
            "\u001b[?25hDownloading llama_index_embeddings_openai-0.2.5-py3-none-any.whl (6.1 kB)\n",
            "Downloading llama_index_indices_managed_llama_cloud-0.3.0-py3-none-any.whl (9.5 kB)\n",
            "Downloading llama_index_legacy-0.9.48.post3-py3-none-any.whl (1.2 MB)\n",
            "\u001b[2K   \u001b[90m━━━━━━━━━━━━━━━━━━━━━━━━━━━━━━━━━━━━━━━━\u001b[0m \u001b[32m1.2/1.2 MB\u001b[0m \u001b[31m51.7 MB/s\u001b[0m eta \u001b[36m0:00:00\u001b[0m\n",
            "\u001b[?25hDownloading llama_index_llms_openai-0.2.6-py3-none-any.whl (12 kB)\n",
            "Downloading llama_index_multi_modal_llms_openai-0.2.1-py3-none-any.whl (5.9 kB)\n",
            "Downloading llama_index_program_openai-0.2.0-py3-none-any.whl (5.3 kB)\n",
            "Downloading llama_index_question_gen_openai-0.2.0-py3-none-any.whl (2.9 kB)\n",
            "Downloading llama_index_readers_file-0.2.1-py3-none-any.whl (38 kB)\n",
            "Downloading llama_index_readers_llama_parse-0.3.0-py3-none-any.whl (2.5 kB)\n",
            "Downloading nltk-3.9.1-py3-none-any.whl (1.5 MB)\n",
            "\u001b[2K   \u001b[90m━━━━━━━━━━━━━━━━━━━━━━━━━━━━━━━━━━━━━━━━\u001b[0m \u001b[32m1.5/1.5 MB\u001b[0m \u001b[31m54.1 MB/s\u001b[0m eta \u001b[36m0:00:00\u001b[0m\n",
            "\u001b[?25hDownloading Deprecated-1.2.14-py2.py3-none-any.whl (9.6 kB)\n",
            "Downloading dirtyjson-1.0.8-py3-none-any.whl (25 kB)\n",
            "Downloading llama_cloud-0.0.17-py3-none-any.whl (187 kB)\n",
            "\u001b[2K   \u001b[90m━━━━━━━━━━━━━━━━━━━━━━━━━━━━━━━━━━━━━━━━\u001b[0m \u001b[32m187.4/187.4 kB\u001b[0m \u001b[31m13.9 MB/s\u001b[0m eta \u001b[36m0:00:00\u001b[0m\n",
            "\u001b[?25hDownloading httpx-0.27.2-py3-none-any.whl (76 kB)\n",
            "\u001b[2K   \u001b[90m━━━━━━━━━━━━━━━━━━━━━━━━━━━━━━━━━━━━━━━━\u001b[0m \u001b[32m76.4/76.4 kB\u001b[0m \u001b[31m6.2 MB/s\u001b[0m eta \u001b[36m0:00:00\u001b[0m\n",
            "\u001b[?25hDownloading httpcore-1.0.5-py3-none-any.whl (77 kB)\n",
            "\u001b[2K   \u001b[90m━━━━━━━━━━━━━━━━━━━━━━━━━━━━━━━━━━━━━━━━\u001b[0m \u001b[32m77.9/77.9 kB\u001b[0m \u001b[31m6.1 MB/s\u001b[0m eta \u001b[36m0:00:00\u001b[0m\n",
            "\u001b[?25hDownloading llama_parse-0.5.5-py3-none-any.whl (10 kB)\n",
            "Downloading openai-1.45.0-py3-none-any.whl (374 kB)\n",
            "\u001b[2K   \u001b[90m━━━━━━━━━━━━━━━━━━━━━━━━━━━━━━━━━━━━━━━━\u001b[0m \u001b[32m374.1/374.1 kB\u001b[0m \u001b[31m21.6 MB/s\u001b[0m eta \u001b[36m0:00:00\u001b[0m\n",
            "\u001b[?25hDownloading pypdf-4.3.1-py3-none-any.whl (295 kB)\n",
            "\u001b[2K   \u001b[90m━━━━━━━━━━━━━━━━━━━━━━━━━━━━━━━━━━━━━━━━\u001b[0m \u001b[32m295.8/295.8 kB\u001b[0m \u001b[31m19.4 MB/s\u001b[0m eta \u001b[36m0:00:00\u001b[0m\n",
            "\u001b[?25hDownloading striprtf-0.0.26-py3-none-any.whl (6.9 kB)\n",
            "Downloading tenacity-8.5.0-py3-none-any.whl (28 kB)\n",
            "Downloading tiktoken-0.7.0-cp310-cp310-manylinux_2_17_x86_64.manylinux2014_x86_64.whl (1.1 MB)\n",
            "\u001b[2K   \u001b[90m━━━━━━━━━━━━━━━━━━━━━━━━━━━━━━━━━━━━━━━━\u001b[0m \u001b[32m1.1/1.1 MB\u001b[0m \u001b[31m44.8 MB/s\u001b[0m eta \u001b[36m0:00:00\u001b[0m\n",
            "\u001b[?25hDownloading typing_inspect-0.9.0-py3-none-any.whl (8.8 kB)\n",
            "Downloading dataclasses_json-0.6.7-py3-none-any.whl (28 kB)\n",
            "Downloading jiter-0.5.0-cp310-cp310-manylinux_2_17_x86_64.manylinux2014_x86_64.whl (318 kB)\n",
            "\u001b[2K   \u001b[90m━━━━━━━━━━━━━━━━━━━━━━━━━━━━━━━━━━━━━━━━\u001b[0m \u001b[32m318.9/318.9 kB\u001b[0m \u001b[31m23.5 MB/s\u001b[0m eta \u001b[36m0:00:00\u001b[0m\n",
            "\u001b[?25hDownloading marshmallow-3.22.0-py3-none-any.whl (49 kB)\n",
            "\u001b[2K   \u001b[90m━━━━━━━━━━━━━━━━━━━━━━━━━━━━━━━━━━━━━━━━\u001b[0m \u001b[32m49.3/49.3 kB\u001b[0m \u001b[31m3.4 MB/s\u001b[0m eta \u001b[36m0:00:00\u001b[0m\n",
            "\u001b[?25hDownloading mypy_extensions-1.0.0-py3-none-any.whl (4.7 kB)\n",
            "Downloading h11-0.14.0-py3-none-any.whl (58 kB)\n",
            "\u001b[2K   \u001b[90m━━━━━━━━━━━━━━━━━━━━━━━━━━━━━━━━━━━━━━━━\u001b[0m \u001b[32m58.3/58.3 kB\u001b[0m \u001b[31m4.5 MB/s\u001b[0m eta \u001b[36m0:00:00\u001b[0m\n",
            "\u001b[?25hInstalling collected packages: striprtf, dirtyjson, tenacity, pypdf, nltk, mypy-extensions, marshmallow, jiter, h11, deprecated, typing-inspect, tiktoken, httpcore, httpx, dataclasses-json, openai, llama-index-core, llama-cloud, llama-parse, llama-index-readers-file, llama-index-legacy, llama-index-indices-managed-llama-cloud, llama-index-embeddings-openai, llama-index-readers-llama-parse, llama-index-llms-openai, llama-index-agent-openai, llama-index-program-openai, llama-index-question-gen-openai, llama-index-multi-modal-llms-openai, llama-index-cli, llama-index\n",
            "  Attempting uninstall: tenacity\n",
            "    Found existing installation: tenacity 9.0.0\n",
            "    Uninstalling tenacity-9.0.0:\n",
            "      Successfully uninstalled tenacity-9.0.0\n",
            "  Attempting uninstall: nltk\n",
            "    Found existing installation: nltk 3.8.1\n",
            "    Uninstalling nltk-3.8.1:\n",
            "      Successfully uninstalled nltk-3.8.1\n",
            "Successfully installed dataclasses-json-0.6.7 deprecated-1.2.14 dirtyjson-1.0.8 h11-0.14.0 httpcore-1.0.5 httpx-0.27.2 jiter-0.5.0 llama-cloud-0.0.17 llama-index-0.11.9 llama-index-agent-openai-0.3.1 llama-index-cli-0.3.1 llama-index-core-0.11.9 llama-index-embeddings-openai-0.2.5 llama-index-indices-managed-llama-cloud-0.3.0 llama-index-legacy-0.9.48.post3 llama-index-llms-openai-0.2.6 llama-index-multi-modal-llms-openai-0.2.1 llama-index-program-openai-0.2.0 llama-index-question-gen-openai-0.2.0 llama-index-readers-file-0.2.1 llama-index-readers-llama-parse-0.3.0 llama-parse-0.5.5 marshmallow-3.22.0 mypy-extensions-1.0.0 nltk-3.9.1 openai-1.45.0 pypdf-4.3.1 striprtf-0.0.26 tenacity-8.5.0 tiktoken-0.7.0 typing-inspect-0.9.0\n",
            "Collecting llama_index-llms-openai_like\n",
            "  Downloading llama_index_llms_openai_like-0.2.0-py3-none-any.whl.metadata (753 bytes)\n",
            "Requirement already satisfied: llama-index-core<0.12.0,>=0.11.0 in /usr/local/lib/python3.10/dist-packages (from llama_index-llms-openai_like) (0.11.9)\n",
            "Requirement already satisfied: llama-index-llms-openai<0.3.0,>=0.2.0 in /usr/local/lib/python3.10/dist-packages (from llama_index-llms-openai_like) (0.2.6)\n",
            "Requirement already satisfied: transformers<5.0.0,>=4.37.0 in /usr/local/lib/python3.10/dist-packages (from llama_index-llms-openai_like) (4.44.2)\n",
            "Requirement already satisfied: PyYAML>=6.0.1 in /usr/local/lib/python3.10/dist-packages (from llama-index-core<0.12.0,>=0.11.0->llama_index-llms-openai_like) (6.0.2)\n",
            "Requirement already satisfied: SQLAlchemy>=1.4.49 in /usr/local/lib/python3.10/dist-packages (from SQLAlchemy[asyncio]>=1.4.49->llama-index-core<0.12.0,>=0.11.0->llama_index-llms-openai_like) (2.0.34)\n",
            "Requirement already satisfied: aiohttp<4.0.0,>=3.8.6 in /usr/local/lib/python3.10/dist-packages (from llama-index-core<0.12.0,>=0.11.0->llama_index-llms-openai_like) (3.10.5)\n",
            "Requirement already satisfied: dataclasses-json in /usr/local/lib/python3.10/dist-packages (from llama-index-core<0.12.0,>=0.11.0->llama_index-llms-openai_like) (0.6.7)\n",
            "Requirement already satisfied: deprecated>=1.2.9.3 in /usr/local/lib/python3.10/dist-packages (from llama-index-core<0.12.0,>=0.11.0->llama_index-llms-openai_like) (1.2.14)\n",
            "Requirement already satisfied: dirtyjson<2.0.0,>=1.0.8 in /usr/local/lib/python3.10/dist-packages (from llama-index-core<0.12.0,>=0.11.0->llama_index-llms-openai_like) (1.0.8)\n",
            "Requirement already satisfied: fsspec>=2023.5.0 in /usr/local/lib/python3.10/dist-packages (from llama-index-core<0.12.0,>=0.11.0->llama_index-llms-openai_like) (2024.6.1)\n",
            "Requirement already satisfied: httpx in /usr/local/lib/python3.10/dist-packages (from llama-index-core<0.12.0,>=0.11.0->llama_index-llms-openai_like) (0.27.2)\n",
            "Requirement already satisfied: nest-asyncio<2.0.0,>=1.5.8 in /usr/local/lib/python3.10/dist-packages (from llama-index-core<0.12.0,>=0.11.0->llama_index-llms-openai_like) (1.6.0)\n",
            "Requirement already satisfied: networkx>=3.0 in /usr/local/lib/python3.10/dist-packages (from llama-index-core<0.12.0,>=0.11.0->llama_index-llms-openai_like) (3.3)\n",
            "Requirement already satisfied: nltk>3.8.1 in /usr/local/lib/python3.10/dist-packages (from llama-index-core<0.12.0,>=0.11.0->llama_index-llms-openai_like) (3.9.1)\n",
            "Requirement already satisfied: numpy<2.0.0 in /usr/local/lib/python3.10/dist-packages (from llama-index-core<0.12.0,>=0.11.0->llama_index-llms-openai_like) (1.26.4)\n",
            "Requirement already satisfied: pillow>=9.0.0 in /usr/local/lib/python3.10/dist-packages (from llama-index-core<0.12.0,>=0.11.0->llama_index-llms-openai_like) (9.4.0)\n",
            "Requirement already satisfied: pydantic<3.0.0,>=2.7.0 in /usr/local/lib/python3.10/dist-packages (from llama-index-core<0.12.0,>=0.11.0->llama_index-llms-openai_like) (2.9.1)\n",
            "Requirement already satisfied: requests>=2.31.0 in /usr/local/lib/python3.10/dist-packages (from llama-index-core<0.12.0,>=0.11.0->llama_index-llms-openai_like) (2.32.3)\n",
            "Requirement already satisfied: tenacity!=8.4.0,<9.0.0,>=8.2.0 in /usr/local/lib/python3.10/dist-packages (from llama-index-core<0.12.0,>=0.11.0->llama_index-llms-openai_like) (8.5.0)\n",
            "Requirement already satisfied: tiktoken>=0.3.3 in /usr/local/lib/python3.10/dist-packages (from llama-index-core<0.12.0,>=0.11.0->llama_index-llms-openai_like) (0.7.0)\n",
            "Requirement already satisfied: tqdm<5.0.0,>=4.66.1 in /usr/local/lib/python3.10/dist-packages (from llama-index-core<0.12.0,>=0.11.0->llama_index-llms-openai_like) (4.66.5)\n",
            "Requirement already satisfied: typing-extensions>=4.5.0 in /usr/local/lib/python3.10/dist-packages (from llama-index-core<0.12.0,>=0.11.0->llama_index-llms-openai_like) (4.12.2)\n",
            "Requirement already satisfied: typing-inspect>=0.8.0 in /usr/local/lib/python3.10/dist-packages (from llama-index-core<0.12.0,>=0.11.0->llama_index-llms-openai_like) (0.9.0)\n",
            "Requirement already satisfied: wrapt in /usr/local/lib/python3.10/dist-packages (from llama-index-core<0.12.0,>=0.11.0->llama_index-llms-openai_like) (1.16.0)\n",
            "Requirement already satisfied: llama-index-agent-openai<0.4.0,>=0.3.1 in /usr/local/lib/python3.10/dist-packages (from llama-index-llms-openai<0.3.0,>=0.2.0->llama_index-llms-openai_like) (0.3.1)\n",
            "Requirement already satisfied: openai<2.0.0,>=1.40.0 in /usr/local/lib/python3.10/dist-packages (from llama-index-llms-openai<0.3.0,>=0.2.0->llama_index-llms-openai_like) (1.45.0)\n",
            "Requirement already satisfied: filelock in /usr/local/lib/python3.10/dist-packages (from transformers<5.0.0,>=4.37.0->llama_index-llms-openai_like) (3.16.0)\n",
            "Requirement already satisfied: huggingface-hub<1.0,>=0.23.2 in /usr/local/lib/python3.10/dist-packages (from transformers<5.0.0,>=4.37.0->llama_index-llms-openai_like) (0.24.6)\n",
            "Requirement already satisfied: packaging>=20.0 in /usr/local/lib/python3.10/dist-packages (from transformers<5.0.0,>=4.37.0->llama_index-llms-openai_like) (24.1)\n",
            "Requirement already satisfied: regex!=2019.12.17 in /usr/local/lib/python3.10/dist-packages (from transformers<5.0.0,>=4.37.0->llama_index-llms-openai_like) (2024.5.15)\n",
            "Requirement already satisfied: safetensors>=0.4.1 in /usr/local/lib/python3.10/dist-packages (from transformers<5.0.0,>=4.37.0->llama_index-llms-openai_like) (0.4.5)\n",
            "Requirement already satisfied: tokenizers<0.20,>=0.19 in /usr/local/lib/python3.10/dist-packages (from transformers<5.0.0,>=4.37.0->llama_index-llms-openai_like) (0.19.1)\n",
            "Requirement already satisfied: aiohappyeyeballs>=2.3.0 in /usr/local/lib/python3.10/dist-packages (from aiohttp<4.0.0,>=3.8.6->llama-index-core<0.12.0,>=0.11.0->llama_index-llms-openai_like) (2.4.0)\n",
            "Requirement already satisfied: aiosignal>=1.1.2 in /usr/local/lib/python3.10/dist-packages (from aiohttp<4.0.0,>=3.8.6->llama-index-core<0.12.0,>=0.11.0->llama_index-llms-openai_like) (1.3.1)\n",
            "Requirement already satisfied: attrs>=17.3.0 in /usr/local/lib/python3.10/dist-packages (from aiohttp<4.0.0,>=3.8.6->llama-index-core<0.12.0,>=0.11.0->llama_index-llms-openai_like) (24.2.0)\n",
            "Requirement already satisfied: frozenlist>=1.1.1 in /usr/local/lib/python3.10/dist-packages (from aiohttp<4.0.0,>=3.8.6->llama-index-core<0.12.0,>=0.11.0->llama_index-llms-openai_like) (1.4.1)\n",
            "Requirement already satisfied: multidict<7.0,>=4.5 in /usr/local/lib/python3.10/dist-packages (from aiohttp<4.0.0,>=3.8.6->llama-index-core<0.12.0,>=0.11.0->llama_index-llms-openai_like) (6.1.0)\n",
            "Requirement already satisfied: yarl<2.0,>=1.0 in /usr/local/lib/python3.10/dist-packages (from aiohttp<4.0.0,>=3.8.6->llama-index-core<0.12.0,>=0.11.0->llama_index-llms-openai_like) (1.11.1)\n",
            "Requirement already satisfied: async-timeout<5.0,>=4.0 in /usr/local/lib/python3.10/dist-packages (from aiohttp<4.0.0,>=3.8.6->llama-index-core<0.12.0,>=0.11.0->llama_index-llms-openai_like) (4.0.3)\n",
            "Requirement already satisfied: click in /usr/local/lib/python3.10/dist-packages (from nltk>3.8.1->llama-index-core<0.12.0,>=0.11.0->llama_index-llms-openai_like) (8.1.7)\n",
            "Requirement already satisfied: joblib in /usr/local/lib/python3.10/dist-packages (from nltk>3.8.1->llama-index-core<0.12.0,>=0.11.0->llama_index-llms-openai_like) (1.4.2)\n",
            "Requirement already satisfied: anyio<5,>=3.5.0 in /usr/local/lib/python3.10/dist-packages (from openai<2.0.0,>=1.40.0->llama-index-llms-openai<0.3.0,>=0.2.0->llama_index-llms-openai_like) (3.7.1)\n",
            "Requirement already satisfied: distro<2,>=1.7.0 in /usr/lib/python3/dist-packages (from openai<2.0.0,>=1.40.0->llama-index-llms-openai<0.3.0,>=0.2.0->llama_index-llms-openai_like) (1.7.0)\n",
            "Requirement already satisfied: jiter<1,>=0.4.0 in /usr/local/lib/python3.10/dist-packages (from openai<2.0.0,>=1.40.0->llama-index-llms-openai<0.3.0,>=0.2.0->llama_index-llms-openai_like) (0.5.0)\n",
            "Requirement already satisfied: sniffio in /usr/local/lib/python3.10/dist-packages (from openai<2.0.0,>=1.40.0->llama-index-llms-openai<0.3.0,>=0.2.0->llama_index-llms-openai_like) (1.3.1)\n",
            "Requirement already satisfied: certifi in /usr/local/lib/python3.10/dist-packages (from httpx->llama-index-core<0.12.0,>=0.11.0->llama_index-llms-openai_like) (2024.8.30)\n",
            "Requirement already satisfied: httpcore==1.* in /usr/local/lib/python3.10/dist-packages (from httpx->llama-index-core<0.12.0,>=0.11.0->llama_index-llms-openai_like) (1.0.5)\n",
            "Requirement already satisfied: idna in /usr/local/lib/python3.10/dist-packages (from httpx->llama-index-core<0.12.0,>=0.11.0->llama_index-llms-openai_like) (3.8)\n",
            "Requirement already satisfied: h11<0.15,>=0.13 in /usr/local/lib/python3.10/dist-packages (from httpcore==1.*->httpx->llama-index-core<0.12.0,>=0.11.0->llama_index-llms-openai_like) (0.14.0)\n",
            "Requirement already satisfied: annotated-types>=0.6.0 in /usr/local/lib/python3.10/dist-packages (from pydantic<3.0.0,>=2.7.0->llama-index-core<0.12.0,>=0.11.0->llama_index-llms-openai_like) (0.7.0)\n",
            "Requirement already satisfied: pydantic-core==2.23.3 in /usr/local/lib/python3.10/dist-packages (from pydantic<3.0.0,>=2.7.0->llama-index-core<0.12.0,>=0.11.0->llama_index-llms-openai_like) (2.23.3)\n",
            "Requirement already satisfied: charset-normalizer<4,>=2 in /usr/local/lib/python3.10/dist-packages (from requests>=2.31.0->llama-index-core<0.12.0,>=0.11.0->llama_index-llms-openai_like) (3.3.2)\n",
            "Requirement already satisfied: urllib3<3,>=1.21.1 in /usr/local/lib/python3.10/dist-packages (from requests>=2.31.0->llama-index-core<0.12.0,>=0.11.0->llama_index-llms-openai_like) (2.0.7)\n",
            "Requirement already satisfied: greenlet!=0.4.17 in /usr/local/lib/python3.10/dist-packages (from SQLAlchemy>=1.4.49->SQLAlchemy[asyncio]>=1.4.49->llama-index-core<0.12.0,>=0.11.0->llama_index-llms-openai_like) (3.1.0)\n",
            "Requirement already satisfied: mypy-extensions>=0.3.0 in /usr/local/lib/python3.10/dist-packages (from typing-inspect>=0.8.0->llama-index-core<0.12.0,>=0.11.0->llama_index-llms-openai_like) (1.0.0)\n",
            "Requirement already satisfied: marshmallow<4.0.0,>=3.18.0 in /usr/local/lib/python3.10/dist-packages (from dataclasses-json->llama-index-core<0.12.0,>=0.11.0->llama_index-llms-openai_like) (3.22.0)\n",
            "Requirement already satisfied: exceptiongroup in /usr/local/lib/python3.10/dist-packages (from anyio<5,>=3.5.0->openai<2.0.0,>=1.40.0->llama-index-llms-openai<0.3.0,>=0.2.0->llama_index-llms-openai_like) (1.2.2)\n",
            "Downloading llama_index_llms_openai_like-0.2.0-py3-none-any.whl (3.1 kB)\n",
            "Installing collected packages: llama_index-llms-openai_like\n",
            "Successfully installed llama_index-llms-openai_like-0.2.0\n",
            "Collecting llama_index-embeddings-huggingface\n",
            "  Downloading llama_index_embeddings_huggingface-0.3.1-py3-none-any.whl.metadata (718 bytes)\n",
            "Requirement already satisfied: huggingface-hub>=0.19.0 in /usr/local/lib/python3.10/dist-packages (from huggingface-hub[inference]>=0.19.0->llama_index-embeddings-huggingface) (0.24.6)\n",
            "Requirement already satisfied: llama-index-core<0.12.0,>=0.11.0 in /usr/local/lib/python3.10/dist-packages (from llama_index-embeddings-huggingface) (0.11.9)\n",
            "Collecting sentence-transformers>=2.6.1 (from llama_index-embeddings-huggingface)\n",
            "  Downloading sentence_transformers-3.1.0-py3-none-any.whl.metadata (23 kB)\n",
            "Requirement already satisfied: filelock in /usr/local/lib/python3.10/dist-packages (from huggingface-hub>=0.19.0->huggingface-hub[inference]>=0.19.0->llama_index-embeddings-huggingface) (3.16.0)\n",
            "Requirement already satisfied: fsspec>=2023.5.0 in /usr/local/lib/python3.10/dist-packages (from huggingface-hub>=0.19.0->huggingface-hub[inference]>=0.19.0->llama_index-embeddings-huggingface) (2024.6.1)\n",
            "Requirement already satisfied: packaging>=20.9 in /usr/local/lib/python3.10/dist-packages (from huggingface-hub>=0.19.0->huggingface-hub[inference]>=0.19.0->llama_index-embeddings-huggingface) (24.1)\n",
            "Requirement already satisfied: pyyaml>=5.1 in /usr/local/lib/python3.10/dist-packages (from huggingface-hub>=0.19.0->huggingface-hub[inference]>=0.19.0->llama_index-embeddings-huggingface) (6.0.2)\n",
            "Requirement already satisfied: requests in /usr/local/lib/python3.10/dist-packages (from huggingface-hub>=0.19.0->huggingface-hub[inference]>=0.19.0->llama_index-embeddings-huggingface) (2.32.3)\n",
            "Requirement already satisfied: tqdm>=4.42.1 in /usr/local/lib/python3.10/dist-packages (from huggingface-hub>=0.19.0->huggingface-hub[inference]>=0.19.0->llama_index-embeddings-huggingface) (4.66.5)\n",
            "Requirement already satisfied: typing-extensions>=3.7.4.3 in /usr/local/lib/python3.10/dist-packages (from huggingface-hub>=0.19.0->huggingface-hub[inference]>=0.19.0->llama_index-embeddings-huggingface) (4.12.2)\n",
            "Requirement already satisfied: aiohttp in /usr/local/lib/python3.10/dist-packages (from huggingface-hub[inference]>=0.19.0->llama_index-embeddings-huggingface) (3.10.5)\n",
            "Collecting minijinja>=1.0 (from huggingface-hub[inference]>=0.19.0->llama_index-embeddings-huggingface)\n",
            "  Downloading minijinja-2.2.0-cp38-abi3-manylinux_2_17_x86_64.manylinux2014_x86_64.whl.metadata (8.8 kB)\n",
            "Requirement already satisfied: SQLAlchemy>=1.4.49 in /usr/local/lib/python3.10/dist-packages (from SQLAlchemy[asyncio]>=1.4.49->llama-index-core<0.12.0,>=0.11.0->llama_index-embeddings-huggingface) (2.0.34)\n",
            "Requirement already satisfied: dataclasses-json in /usr/local/lib/python3.10/dist-packages (from llama-index-core<0.12.0,>=0.11.0->llama_index-embeddings-huggingface) (0.6.7)\n",
            "Requirement already satisfied: deprecated>=1.2.9.3 in /usr/local/lib/python3.10/dist-packages (from llama-index-core<0.12.0,>=0.11.0->llama_index-embeddings-huggingface) (1.2.14)\n",
            "Requirement already satisfied: dirtyjson<2.0.0,>=1.0.8 in /usr/local/lib/python3.10/dist-packages (from llama-index-core<0.12.0,>=0.11.0->llama_index-embeddings-huggingface) (1.0.8)\n",
            "Requirement already satisfied: httpx in /usr/local/lib/python3.10/dist-packages (from llama-index-core<0.12.0,>=0.11.0->llama_index-embeddings-huggingface) (0.27.2)\n",
            "Requirement already satisfied: nest-asyncio<2.0.0,>=1.5.8 in /usr/local/lib/python3.10/dist-packages (from llama-index-core<0.12.0,>=0.11.0->llama_index-embeddings-huggingface) (1.6.0)\n",
            "Requirement already satisfied: networkx>=3.0 in /usr/local/lib/python3.10/dist-packages (from llama-index-core<0.12.0,>=0.11.0->llama_index-embeddings-huggingface) (3.3)\n",
            "Requirement already satisfied: nltk>3.8.1 in /usr/local/lib/python3.10/dist-packages (from llama-index-core<0.12.0,>=0.11.0->llama_index-embeddings-huggingface) (3.9.1)\n",
            "Requirement already satisfied: numpy<2.0.0 in /usr/local/lib/python3.10/dist-packages (from llama-index-core<0.12.0,>=0.11.0->llama_index-embeddings-huggingface) (1.26.4)\n",
            "Requirement already satisfied: pillow>=9.0.0 in /usr/local/lib/python3.10/dist-packages (from llama-index-core<0.12.0,>=0.11.0->llama_index-embeddings-huggingface) (9.4.0)\n",
            "Requirement already satisfied: pydantic<3.0.0,>=2.7.0 in /usr/local/lib/python3.10/dist-packages (from llama-index-core<0.12.0,>=0.11.0->llama_index-embeddings-huggingface) (2.9.1)\n",
            "Requirement already satisfied: tenacity!=8.4.0,<9.0.0,>=8.2.0 in /usr/local/lib/python3.10/dist-packages (from llama-index-core<0.12.0,>=0.11.0->llama_index-embeddings-huggingface) (8.5.0)\n",
            "Requirement already satisfied: tiktoken>=0.3.3 in /usr/local/lib/python3.10/dist-packages (from llama-index-core<0.12.0,>=0.11.0->llama_index-embeddings-huggingface) (0.7.0)\n",
            "Requirement already satisfied: typing-inspect>=0.8.0 in /usr/local/lib/python3.10/dist-packages (from llama-index-core<0.12.0,>=0.11.0->llama_index-embeddings-huggingface) (0.9.0)\n",
            "Requirement already satisfied: wrapt in /usr/local/lib/python3.10/dist-packages (from llama-index-core<0.12.0,>=0.11.0->llama_index-embeddings-huggingface) (1.16.0)\n",
            "Requirement already satisfied: transformers<5.0.0,>=4.38.0 in /usr/local/lib/python3.10/dist-packages (from sentence-transformers>=2.6.1->llama_index-embeddings-huggingface) (4.44.2)\n",
            "Requirement already satisfied: torch>=1.11.0 in /usr/local/lib/python3.10/dist-packages (from sentence-transformers>=2.6.1->llama_index-embeddings-huggingface) (2.4.0+cu121)\n",
            "Requirement already satisfied: scikit-learn in /usr/local/lib/python3.10/dist-packages (from sentence-transformers>=2.6.1->llama_index-embeddings-huggingface) (1.3.2)\n",
            "Requirement already satisfied: scipy in /usr/local/lib/python3.10/dist-packages (from sentence-transformers>=2.6.1->llama_index-embeddings-huggingface) (1.13.1)\n",
            "Requirement already satisfied: aiohappyeyeballs>=2.3.0 in /usr/local/lib/python3.10/dist-packages (from aiohttp->huggingface-hub[inference]>=0.19.0->llama_index-embeddings-huggingface) (2.4.0)\n",
            "Requirement already satisfied: aiosignal>=1.1.2 in /usr/local/lib/python3.10/dist-packages (from aiohttp->huggingface-hub[inference]>=0.19.0->llama_index-embeddings-huggingface) (1.3.1)\n",
            "Requirement already satisfied: attrs>=17.3.0 in /usr/local/lib/python3.10/dist-packages (from aiohttp->huggingface-hub[inference]>=0.19.0->llama_index-embeddings-huggingface) (24.2.0)\n",
            "Requirement already satisfied: frozenlist>=1.1.1 in /usr/local/lib/python3.10/dist-packages (from aiohttp->huggingface-hub[inference]>=0.19.0->llama_index-embeddings-huggingface) (1.4.1)\n",
            "Requirement already satisfied: multidict<7.0,>=4.5 in /usr/local/lib/python3.10/dist-packages (from aiohttp->huggingface-hub[inference]>=0.19.0->llama_index-embeddings-huggingface) (6.1.0)\n",
            "Requirement already satisfied: yarl<2.0,>=1.0 in /usr/local/lib/python3.10/dist-packages (from aiohttp->huggingface-hub[inference]>=0.19.0->llama_index-embeddings-huggingface) (1.11.1)\n",
            "Requirement already satisfied: async-timeout<5.0,>=4.0 in /usr/local/lib/python3.10/dist-packages (from aiohttp->huggingface-hub[inference]>=0.19.0->llama_index-embeddings-huggingface) (4.0.3)\n",
            "Requirement already satisfied: click in /usr/local/lib/python3.10/dist-packages (from nltk>3.8.1->llama-index-core<0.12.0,>=0.11.0->llama_index-embeddings-huggingface) (8.1.7)\n",
            "Requirement already satisfied: joblib in /usr/local/lib/python3.10/dist-packages (from nltk>3.8.1->llama-index-core<0.12.0,>=0.11.0->llama_index-embeddings-huggingface) (1.4.2)\n",
            "Requirement already satisfied: regex>=2021.8.3 in /usr/local/lib/python3.10/dist-packages (from nltk>3.8.1->llama-index-core<0.12.0,>=0.11.0->llama_index-embeddings-huggingface) (2024.5.15)\n",
            "Requirement already satisfied: annotated-types>=0.6.0 in /usr/local/lib/python3.10/dist-packages (from pydantic<3.0.0,>=2.7.0->llama-index-core<0.12.0,>=0.11.0->llama_index-embeddings-huggingface) (0.7.0)\n",
            "Requirement already satisfied: pydantic-core==2.23.3 in /usr/local/lib/python3.10/dist-packages (from pydantic<3.0.0,>=2.7.0->llama-index-core<0.12.0,>=0.11.0->llama_index-embeddings-huggingface) (2.23.3)\n",
            "Requirement already satisfied: charset-normalizer<4,>=2 in /usr/local/lib/python3.10/dist-packages (from requests->huggingface-hub>=0.19.0->huggingface-hub[inference]>=0.19.0->llama_index-embeddings-huggingface) (3.3.2)\n",
            "Requirement already satisfied: idna<4,>=2.5 in /usr/local/lib/python3.10/dist-packages (from requests->huggingface-hub>=0.19.0->huggingface-hub[inference]>=0.19.0->llama_index-embeddings-huggingface) (3.8)\n",
            "Requirement already satisfied: urllib3<3,>=1.21.1 in /usr/local/lib/python3.10/dist-packages (from requests->huggingface-hub>=0.19.0->huggingface-hub[inference]>=0.19.0->llama_index-embeddings-huggingface) (2.0.7)\n",
            "Requirement already satisfied: certifi>=2017.4.17 in /usr/local/lib/python3.10/dist-packages (from requests->huggingface-hub>=0.19.0->huggingface-hub[inference]>=0.19.0->llama_index-embeddings-huggingface) (2024.8.30)\n",
            "Requirement already satisfied: greenlet!=0.4.17 in /usr/local/lib/python3.10/dist-packages (from SQLAlchemy>=1.4.49->SQLAlchemy[asyncio]>=1.4.49->llama-index-core<0.12.0,>=0.11.0->llama_index-embeddings-huggingface) (3.1.0)\n",
            "Requirement already satisfied: sympy in /usr/local/lib/python3.10/dist-packages (from torch>=1.11.0->sentence-transformers>=2.6.1->llama_index-embeddings-huggingface) (1.13.2)\n",
            "Requirement already satisfied: jinja2 in /usr/local/lib/python3.10/dist-packages (from torch>=1.11.0->sentence-transformers>=2.6.1->llama_index-embeddings-huggingface) (3.1.4)\n",
            "Requirement already satisfied: safetensors>=0.4.1 in /usr/local/lib/python3.10/dist-packages (from transformers<5.0.0,>=4.38.0->sentence-transformers>=2.6.1->llama_index-embeddings-huggingface) (0.4.5)\n",
            "Requirement already satisfied: tokenizers<0.20,>=0.19 in /usr/local/lib/python3.10/dist-packages (from transformers<5.0.0,>=4.38.0->sentence-transformers>=2.6.1->llama_index-embeddings-huggingface) (0.19.1)\n",
            "Requirement already satisfied: mypy-extensions>=0.3.0 in /usr/local/lib/python3.10/dist-packages (from typing-inspect>=0.8.0->llama-index-core<0.12.0,>=0.11.0->llama_index-embeddings-huggingface) (1.0.0)\n",
            "Requirement already satisfied: marshmallow<4.0.0,>=3.18.0 in /usr/local/lib/python3.10/dist-packages (from dataclasses-json->llama-index-core<0.12.0,>=0.11.0->llama_index-embeddings-huggingface) (3.22.0)\n",
            "Requirement already satisfied: anyio in /usr/local/lib/python3.10/dist-packages (from httpx->llama-index-core<0.12.0,>=0.11.0->llama_index-embeddings-huggingface) (3.7.1)\n",
            "Requirement already satisfied: httpcore==1.* in /usr/local/lib/python3.10/dist-packages (from httpx->llama-index-core<0.12.0,>=0.11.0->llama_index-embeddings-huggingface) (1.0.5)\n",
            "Requirement already satisfied: sniffio in /usr/local/lib/python3.10/dist-packages (from httpx->llama-index-core<0.12.0,>=0.11.0->llama_index-embeddings-huggingface) (1.3.1)\n",
            "Requirement already satisfied: h11<0.15,>=0.13 in /usr/local/lib/python3.10/dist-packages (from httpcore==1.*->httpx->llama-index-core<0.12.0,>=0.11.0->llama_index-embeddings-huggingface) (0.14.0)\n",
            "Requirement already satisfied: threadpoolctl>=2.0.0 in /usr/local/lib/python3.10/dist-packages (from scikit-learn->sentence-transformers>=2.6.1->llama_index-embeddings-huggingface) (3.5.0)\n",
            "Requirement already satisfied: exceptiongroup in /usr/local/lib/python3.10/dist-packages (from anyio->httpx->llama-index-core<0.12.0,>=0.11.0->llama_index-embeddings-huggingface) (1.2.2)\n",
            "Requirement already satisfied: MarkupSafe>=2.0 in /usr/local/lib/python3.10/dist-packages (from jinja2->torch>=1.11.0->sentence-transformers>=2.6.1->llama_index-embeddings-huggingface) (2.1.5)\n",
            "Requirement already satisfied: mpmath<1.4,>=1.1.0 in /usr/local/lib/python3.10/dist-packages (from sympy->torch>=1.11.0->sentence-transformers>=2.6.1->llama_index-embeddings-huggingface) (1.3.0)\n",
            "Downloading llama_index_embeddings_huggingface-0.3.1-py3-none-any.whl (8.6 kB)\n",
            "Downloading sentence_transformers-3.1.0-py3-none-any.whl (249 kB)\n",
            "\u001b[2K   \u001b[90m━━━━━━━━━━━━━━━━━━━━━━━━━━━━━━━━━━━━━━━━\u001b[0m \u001b[32m249.1/249.1 kB\u001b[0m \u001b[31m10.3 MB/s\u001b[0m eta \u001b[36m0:00:00\u001b[0m\n",
            "\u001b[?25hDownloading minijinja-2.2.0-cp38-abi3-manylinux_2_17_x86_64.manylinux2014_x86_64.whl (861 kB)\n",
            "\u001b[2K   \u001b[90m━━━━━━━━━━━━━━━━━━━━━━━━━━━━━━━━━━━━━━━━\u001b[0m \u001b[32m861.9/861.9 kB\u001b[0m \u001b[31m31.5 MB/s\u001b[0m eta \u001b[36m0:00:00\u001b[0m\n",
            "\u001b[?25hInstalling collected packages: minijinja, sentence-transformers, llama_index-embeddings-huggingface\n",
            "Successfully installed llama_index-embeddings-huggingface-0.3.1 minijinja-2.2.0 sentence-transformers-3.1.0\n"
          ]
        }
      ]
    },
    {
      "cell_type": "code",
      "source": [
        "import os\n",
        "os.environ[\"ZHIPU_API_KEY\"] = \"\""
      ],
      "metadata": {
        "id": "qzN9iuBVS4HM"
      },
      "execution_count": 4,
      "outputs": []
    },
    {
      "cell_type": "code",
      "source": [
        "import os\n",
        "import logging\n",
        "import sys\n",
        "from llama_index.llms.openai_like import OpenAILike\n",
        "from llama_index.core import Settings, ServiceContext\n",
        "from llama_index.embeddings.huggingface import HuggingFaceEmbedding\n",
        "\n",
        "# 配置日志\n",
        "logging.basicConfig(stream=sys.stdout, level=logging.INFO)\n",
        "\n",
        "# 定义DeepSpeed model\n",
        "llm = OpenAILike(model=\"glm-4-flash\",\n",
        "                 api_base=\"https://open.bigmodel.cn/api/paas/v4/\",\n",
        "                 api_key=os.environ[\"ZHIPU_API_KEY\"],\n",
        "                 temperature=0.1,\n",
        "                 is_function_calling_model=True,\n",
        "                 is_chat_model=True)\n",
        "\n",
        "# 配置环境\n",
        "Settings.llm = llm\n",
        "\n",
        "# 设置嵌入模型\n",
        "embed_model = HuggingFaceEmbedding(model_name=\"BAAI/bge-small-zh-v1.5\")\n",
        "Settings.embed_model = embed_model\n",
        "Settings.chunk_size = 256\n",
        "\n",
        "if not llm.metadata.is_function_calling_model:\n",
        "   raise ValueError(\n",
        "        f\"Model name {llm.metadata.model_name} does not support function calling API. \"\n",
        "        )"
      ],
      "metadata": {
        "collapsed": true,
        "id": "r5E6ndRHS9ZB"
      },
      "execution_count": 14,
      "outputs": []
    },
    {
      "cell_type": "code",
      "execution_count": 7,
      "metadata": {
        "id": "WxDyNj-FQJOy"
      },
      "outputs": [],
      "source": [
        "from llama_index.core import VectorStoreIndex, SimpleDirectoryReader\n",
        "from llama_index.core.tools import QueryEngineTool\n",
        "\n",
        "# Load documents, create tools\n",
        "lyft_documents = SimpleDirectoryReader(\n",
        "    input_files=[\"./data/10k/lyft_2021.pdf\"]\n",
        ").load_data()\n",
        "uber_documents = SimpleDirectoryReader(\n",
        "    input_files=[\"./data/10k/uber_2021.pdf\"]\n",
        ").load_data()\n",
        "\n",
        "lyft_index = VectorStoreIndex.from_documents(lyft_documents)\n",
        "uber_index = VectorStoreIndex.from_documents(uber_documents)\n",
        "\n",
        "lyft_tool = QueryEngineTool.from_defaults(\n",
        "    lyft_index.as_query_engine(),\n",
        "    name=\"lyft_2021\",\n",
        "    description=\"Useful for asking questions about Lyft's 2021 10-K filling.\",\n",
        ")\n",
        "\n",
        "uber_tool = QueryEngineTool.from_defaults(\n",
        "    uber_index.as_query_engine(),\n",
        "    name=\"uber_2021\",\n",
        "    description=\"Useful for asking questions about Uber's 2021 10-K filling.\",\n",
        ")"
      ]
    },
    {
      "cell_type": "markdown",
      "metadata": {
        "id": "GTZUTAr3QJOz"
      },
      "source": [
        "## High Level API\n",
        "\n",
        "In this section, we cover the high-level API for creating with and chatting with a structured planning agent.\n",
        "\n",
        "### Create the Agent"
      ]
    },
    {
      "cell_type": "code",
      "execution_count": 15,
      "metadata": {
        "id": "UkfrhLLYQJOz"
      },
      "outputs": [],
      "source": [
        "from llama_index.core.agent import (\n",
        "    StructuredPlannerAgent,\n",
        "    FunctionCallingAgentWorker,\n",
        "    ReActAgentWorker,\n",
        ")\n",
        "\n",
        "# create the function calling worker for reasoning\n",
        "worker = FunctionCallingAgentWorker.from_tools(\n",
        "    [lyft_tool, uber_tool], verbose=True\n",
        ")\n",
        "\n",
        "# wrap the worker in the top-level planner\n",
        "agent = StructuredPlannerAgent(\n",
        "    worker, tools=[lyft_tool, uber_tool], verbose=True\n",
        ")"
      ]
    },
    {
      "cell_type": "markdown",
      "metadata": {
        "id": "kwcuj2TdQJO0"
      },
      "source": [
        "### Give the agent a complex task"
      ]
    },
    {
      "cell_type": "code",
      "execution_count": 16,
      "metadata": {
        "id": "mK6zdcN4QJO0"
      },
      "outputs": [],
      "source": [
        "import nest_asyncio\n",
        "\n",
        "nest_asyncio.apply()"
      ]
    },
    {
      "cell_type": "code",
      "execution_count": 17,
      "metadata": {
        "id": "yOXmJB52QJO1",
        "outputId": "cc71fdad-8611-470c-8bd9-dd891e1104a6",
        "colab": {
          "base_uri": "https://localhost:8080/"
        }
      },
      "outputs": [
        {
          "output_type": "stream",
          "name": "stdout",
          "text": [
            "No complex plan predicted. Defaulting to a single task plan.\n",
            "=== Initial plan ===\n",
            "default:\n",
            "Summarize the key risk factors for Lyft and Uber in their 2021 10-K filings. -> \n",
            "deps: []\n",
            "\n",
            "\n",
            "> Running step 74520a7b-ceee-4c36-90cd-90a4199157e7. Step input: Summarize the key risk factors for Lyft and Uber in their 2021 10-K filings.\n",
            "Added user message to memory: Summarize the key risk factors for Lyft and Uber in their 2021 10-K filings.\n",
            "=== LLM Response ===\n",
            "As of my last update, I don't have direct access to the specific 10-K filings for Lyft and Uber from 2021. However, I can provide a general summary of the types of risk factors that are typically included in such filings for ride-sharing companies like Lyft and Uber. These risk factors often include:\n",
            "\n",
            "**Lyft's Key Risk Factors (2021):**\n",
            "\n",
            "1. **Regulatory Changes:** Changes in regulations related to transportation services, labor laws, and data privacy could impact operations and profitability.\n",
            "2. **Competition:** Intense competition from other ride-sharing and transportation companies could lead to reduced market share and increased costs.\n",
            "3. **Driver Relations:** Issues with driver satisfaction and retention could affect service quality and availability.\n",
            "4. **COVID-19 Impact:** The pandemic's impact on consumer travel patterns and economic conditions could lead to reduced demand for rides.\n",
            "5. **Financial Performance:** Fluctuations in revenue and profitability due to changes in pricing, subsidies, and driver incentives.\n",
            "6. **Technology and Data Security:** Breaches or failures in data security could lead to significant financial and reputational damage.\n",
            "7. **Debt and Capital Structure:** High levels of debt and the need for additional capital to fund operations and expansion could increase financial risk.\n",
            "\n",
            "**Uber's Key Risk Factors (2021):**\n",
            "\n",
            "1. **Regulatory Changes:** Similar to Lyft, changes in regulations could impact operations, particularly in areas like driver classification and data privacy.\n",
            "2. **Competition:** Intense competition and the entry of new players in the market could affect market share and profitability.\n",
            "3. **Driver and Employee Relations:** Issues with driver satisfaction and the classification of employees as contractors versus employees could lead to legal and financial challenges.\n",
            "4. **COVID-19 Impact:** The pandemic's impact on travel and economic conditions could lead to reduced demand for rides and other services.\n",
            "5. **Financial Performance:** Fluctuations in revenue and profitability due to pricing strategies, subsidies, and driver incentives.\n",
            "6. **Technology and Data Security:** Data breaches and technology failures could lead to significant financial and reputational damage.\n",
            "7. **International Operations:** Challenges and risks associated with operating in various countries, including currency fluctuations and local regulations.\n",
            "\n",
            "Please note that these are general risk factors and the actual risk factors listed in the 10-K filings may be more specific and detailed. For the most accurate and up-to-date information, you would need to review the companies' 10-K filings from 2021.\n"
          ]
        }
      ],
      "source": [
        "response = agent.chat(\n",
        "    \"Summarize the key risk factors for Lyft and Uber in their 2021 10-K filings.\"\n",
        ")"
      ]
    },
    {
      "cell_type": "code",
      "execution_count": 18,
      "metadata": {
        "id": "pDLuCKhvQJO2",
        "outputId": "2f52a6d6-30c7-4f12-b4fe-601518c21789",
        "colab": {
          "base_uri": "https://localhost:8080/"
        },
        "collapsed": true
      },
      "outputs": [
        {
          "output_type": "stream",
          "name": "stdout",
          "text": [
            "As of my last update, I don't have direct access to the specific 10-K filings for Lyft and Uber from 2021. However, I can provide a general summary of the types of risk factors that are typically included in such filings for ride-sharing companies like Lyft and Uber. These risk factors often include:\n",
            "\n",
            "**Lyft's Key Risk Factors (2021):**\n",
            "\n",
            "1. **Regulatory Changes:** Changes in regulations related to transportation services, labor laws, and data privacy could impact operations and profitability.\n",
            "2. **Competition:** Intense competition from other ride-sharing and transportation companies could lead to reduced market share and increased costs.\n",
            "3. **Driver Relations:** Issues with driver satisfaction and retention could affect service quality and availability.\n",
            "4. **COVID-19 Impact:** The pandemic's impact on consumer travel patterns and economic conditions could lead to reduced demand for rides.\n",
            "5. **Financial Performance:** Fluctuations in revenue and profitability due to changes in pricing, subsidies, and driver incentives.\n",
            "6. **Technology and Data Security:** Breaches or failures in data security could lead to significant financial and reputational damage.\n",
            "7. **Debt and Capital Structure:** High levels of debt and the need for additional capital to fund operations and expansion could increase financial risk.\n",
            "\n",
            "**Uber's Key Risk Factors (2021):**\n",
            "\n",
            "1. **Regulatory Changes:** Similar to Lyft, changes in regulations could impact operations, particularly in areas like driver classification and data privacy.\n",
            "2. **Competition:** Intense competition and the entry of new players in the market could affect market share and profitability.\n",
            "3. **Driver and Employee Relations:** Issues with driver satisfaction and the classification of employees as contractors versus employees could lead to legal and financial challenges.\n",
            "4. **COVID-19 Impact:** The pandemic's impact on travel and economic conditions could lead to reduced demand for rides and other services.\n",
            "5. **Financial Performance:** Fluctuations in revenue and profitability due to pricing strategies, subsidies, and driver incentives.\n",
            "6. **Technology and Data Security:** Data breaches and technology failures could lead to significant financial and reputational damage.\n",
            "7. **International Operations:** Challenges and risks associated with operating in various countries, including currency fluctuations and local regulations.\n",
            "\n",
            "Please note that these are general risk factors and the actual risk factors listed in the 10-K filings may be more specific and detailed. For the most accurate and up-to-date information, you would need to review the companies' 10-K filings from 2021.\n"
          ]
        }
      ],
      "source": [
        "print(str(response))"
      ]
    },
    {
      "cell_type": "markdown",
      "metadata": {
        "id": "SazJmDMuQJO3"
      },
      "source": [
        "## Changing Prompts\n",
        "\n",
        "The `StructuredPlanningAgent` has two key prompts:\n",
        "1. The initial planning prompt\n",
        "2. The plan refinement prompt\n",
        "\n",
        "Below, we show how to configure these prompts, using the defaults as an example."
      ]
    },
    {
      "cell_type": "code",
      "execution_count": 19,
      "metadata": {
        "id": "fXSUBmhAQJO3"
      },
      "outputs": [],
      "source": [
        "DEFAULT_INITIAL_PLAN_PROMPT = \"\"\"\\\n",
        "Think step-by-step. Given a task and a set of tools, create a comprehesive, end-to-end plan to accomplish the task.\n",
        "Keep in mind not every task needs to be decomposed into multiple sub-tasks if it is simple enough.\n",
        "The plan should end with a sub-task that satisfies the overall task.\n",
        "\n",
        "The tools available are:\n",
        "{tools_str}\n",
        "\n",
        "Overall Task: {task}\n",
        "\"\"\"\n",
        "\n",
        "DEFAULT_PLAN_REFINE_PROMPT = \"\"\"\\\n",
        "Think step-by-step. Given an overall task, a set of tools, and completed sub-tasks, update (if needed) the remaining sub-tasks so that the overall task can still be completed.\n",
        "The plan should end with a sub-task that satisfies the overall task.\n",
        "If the remaining sub-tasks are sufficient, you can skip this step.\n",
        "\n",
        "The tools available are:\n",
        "{tools_str}\n",
        "\n",
        "Overall Task:\n",
        "{task}\n",
        "\n",
        "Completed Sub-Tasks + Outputs:\n",
        "{completed_outputs}\n",
        "\n",
        "Remaining Sub-Tasks:\n",
        "{remaining_sub_tasks}\n",
        "\"\"\""
      ]
    },
    {
      "cell_type": "code",
      "execution_count": 36,
      "metadata": {
        "id": "g4FbaPzhQJO4"
      },
      "outputs": [],
      "source": [
        "agent1 = StructuredPlannerAgent(\n",
        "    worker,\n",
        "    tools=[lyft_tool, uber_tool],\n",
        "    initial_plan_prompt=DEFAULT_INITIAL_PLAN_PROMPT,\n",
        "    plan_refine_prompt=DEFAULT_PLAN_REFINE_PROMPT,\n",
        "    verbose=True,\n",
        ")"
      ]
    },
    {
      "cell_type": "code",
      "source": [
        "response1 = agent1.chat(\n",
        "    \"Summarize the key risk factors for Lyft and Uber in their 2021 10-K filings.\"\n",
        ")"
      ],
      "metadata": {
        "colab": {
          "base_uri": "https://localhost:8080/"
        },
        "id": "kE0TO6rtGQQH",
        "outputId": "46a5526d-d7e0-43e5-c1f9-08c8625716a9"
      },
      "execution_count": 37,
      "outputs": [
        {
          "output_type": "stream",
          "name": "stdout",
          "text": [
            "No complex plan predicted. Defaulting to a single task plan.\n",
            "=== Initial plan ===\n",
            "default:\n",
            "Summarize the key risk factors for Lyft and Uber in their 2021 10-K filings. -> \n",
            "deps: []\n",
            "\n",
            "\n",
            "> Running step e49badb7-0e54-45af-9124-762c988019eb. Step input: Summarize the key risk factors for Lyft and Uber in their 2021 10-K filings.\n",
            "Added user message to memory: Summarize the key risk factors for Lyft and Uber in their 2021 10-K filings.\n",
            "=== LLM Response ===\n",
            "As of my last update, I can provide a general summary of the key risk factors that Lyft and Uber highlighted in their 2021 10-K filings. Please note that the specific details may vary slightly between the two companies, and for the most accurate and up-to-date information, you should refer to their actual filings.\n",
            "\n",
            "**Lyft's Key Risk Factors (2021 10-K):**\n",
            "\n",
            "1. **Competition:** Lyft faces intense competition from other ride-sharing and transportation companies, including Uber, which has a larger market share and more resources.\n",
            "\n",
            "2. **Regulatory Changes:** Changes in regulations related to transportation services, labor laws, and data privacy could impact Lyft's operations and profitability.\n",
            "\n",
            "3. **Driver Relations:** Maintaining good relationships with drivers is crucial for Lyft's business model, and any issues could affect service quality and availability.\n",
            "\n",
            "4. **COVID-19 Impact:** The pandemic has caused fluctuations in demand for ride-sharing services and could continue to affect the company's financial performance.\n",
            "\n",
            "5. **Technology and Data Security:** Cybersecurity threats and data breaches could damage the company's reputation and lead to significant financial losses.\n",
            "\n",
            "6. **Economic Conditions:** Economic downturns or changes in consumer spending habits could negatively impact Lyft's revenue.\n",
            "\n",
            "**Uber's Key Risk Factors (2021 10-K):**\n",
            "\n",
            "1. **Competition:** Similar to Lyft, Uber faces intense competition from other ride-sharing companies and traditional taxi services.\n",
            "\n",
            "2. **Regulatory Changes:** Changes in regulations, particularly in the areas of labor and transportation, could impact Uber's business model and profitability.\n",
            "\n",
            "3. **Driver and Employee Relations:** Issues with driver and employee relations, including labor disputes and unionization efforts, could affect service quality and costs.\n",
            "\n",
            "4. **COVID-19 Impact:** The pandemic has caused significant volatility in demand for Uber's services and could continue to affect the company's financial performance.\n",
            "\n",
            "5. **Technology and Data Security:** Cybersecurity threats and data breaches are significant risks that could harm Uber's reputation and financial stability.\n",
            "\n",
            "6. **Economic Conditions:** Economic instability and changes in consumer spending could lead to reduced demand for Uber's services.\n",
            "\n",
            "Both companies also mentioned the following additional risk factors:\n",
            "\n",
            "- **Intellectual Property:** The loss of proprietary technology or intellectual property could harm their competitive position.\n",
            "- **Financial Leverage:** High levels of debt could affect their financial flexibility and ability to invest in growth.\n",
            "- **Marketplace Dynamics:** Changes in the marketplace, such as shifts in consumer preferences or technological advancements, could impact their business.\n",
            "\n",
            "For the most comprehensive and detailed information, you should review the full 10-K filings from Lyft and Uber.\n"
          ]
        }
      ]
    },
    {
      "cell_type": "code",
      "source": [
        "print(str(response1))"
      ],
      "metadata": {
        "colab": {
          "base_uri": "https://localhost:8080/"
        },
        "id": "kLEgjwnSGZ4D",
        "outputId": "be1c552f-489c-4b89-a80f-a855a5b3808e"
      },
      "execution_count": 38,
      "outputs": [
        {
          "output_type": "stream",
          "name": "stdout",
          "text": [
            "As of my last update, I can provide a general summary of the key risk factors that Lyft and Uber highlighted in their 2021 10-K filings. Please note that the specific details may vary slightly between the two companies, and for the most accurate and up-to-date information, you should refer to their actual filings.\n",
            "\n",
            "**Lyft's Key Risk Factors (2021 10-K):**\n",
            "\n",
            "1. **Competition:** Lyft faces intense competition from other ride-sharing and transportation companies, including Uber, which has a larger market share and more resources.\n",
            "\n",
            "2. **Regulatory Changes:** Changes in regulations related to transportation services, labor laws, and data privacy could impact Lyft's operations and profitability.\n",
            "\n",
            "3. **Driver Relations:** Maintaining good relationships with drivers is crucial for Lyft's business model, and any issues could affect service quality and availability.\n",
            "\n",
            "4. **COVID-19 Impact:** The pandemic has caused fluctuations in demand for ride-sharing services and could continue to affect the company's financial performance.\n",
            "\n",
            "5. **Technology and Data Security:** Cybersecurity threats and data breaches could damage the company's reputation and lead to significant financial losses.\n",
            "\n",
            "6. **Economic Conditions:** Economic downturns or changes in consumer spending habits could negatively impact Lyft's revenue.\n",
            "\n",
            "**Uber's Key Risk Factors (2021 10-K):**\n",
            "\n",
            "1. **Competition:** Similar to Lyft, Uber faces intense competition from other ride-sharing companies and traditional taxi services.\n",
            "\n",
            "2. **Regulatory Changes:** Changes in regulations, particularly in the areas of labor and transportation, could impact Uber's business model and profitability.\n",
            "\n",
            "3. **Driver and Employee Relations:** Issues with driver and employee relations, including labor disputes and unionization efforts, could affect service quality and costs.\n",
            "\n",
            "4. **COVID-19 Impact:** The pandemic has caused significant volatility in demand for Uber's services and could continue to affect the company's financial performance.\n",
            "\n",
            "5. **Technology and Data Security:** Cybersecurity threats and data breaches are significant risks that could harm Uber's reputation and financial stability.\n",
            "\n",
            "6. **Economic Conditions:** Economic instability and changes in consumer spending could lead to reduced demand for Uber's services.\n",
            "\n",
            "Both companies also mentioned the following additional risk factors:\n",
            "\n",
            "- **Intellectual Property:** The loss of proprietary technology or intellectual property could harm their competitive position.\n",
            "- **Financial Leverage:** High levels of debt could affect their financial flexibility and ability to invest in growth.\n",
            "- **Marketplace Dynamics:** Changes in the marketplace, such as shifts in consumer preferences or technological advancements, could impact their business.\n",
            "\n",
            "For the most comprehensive and detailed information, you should review the full 10-K filings from Lyft and Uber.\n"
          ]
        }
      ]
    },
    {
      "cell_type": "markdown",
      "metadata": {
        "id": "S6bivAblQJO4"
      },
      "source": [
        "## Low-level API [Advanced]\n",
        "\n",
        "In this section, we use the same agent, but expose the lower-level steps that are happening under the hood.\n",
        "\n",
        "This is useful for when you want to expose the underlying plan, tasks, etc. to a human to modify them on the fly, or for debugging and running things step-by-step."
      ]
    },
    {
      "cell_type": "markdown",
      "metadata": {
        "id": "psFGLbHAQJO4"
      },
      "source": [
        "### Create the Agent"
      ]
    },
    {
      "cell_type": "code",
      "execution_count": 21,
      "metadata": {
        "id": "P8RrzXDqQJO4"
      },
      "outputs": [],
      "source": [
        "from llama_index.core.agent import (\n",
        "    StructuredPlannerAgent,\n",
        "    FunctionCallingAgentWorker,\n",
        "    ReActAgentWorker,\n",
        ")\n",
        "\n",
        "# create the react worker for reasoning\n",
        "worker = FunctionCallingAgentWorker.from_tools(\n",
        "    [lyft_tool, uber_tool], verbose=True\n",
        ")\n",
        "\n",
        "# wrap the worker in the top-level planner\n",
        "agent = StructuredPlannerAgent(\n",
        "    worker, tools=[lyft_tool, uber_tool], verbose=True\n",
        ")"
      ]
    },
    {
      "cell_type": "markdown",
      "metadata": {
        "id": "NZP_BF6UQJO5"
      },
      "source": [
        "### Create the initial tasks and plan"
      ]
    },
    {
      "cell_type": "code",
      "execution_count": 22,
      "metadata": {
        "id": "0VIt_Y9QQJO5",
        "outputId": "5b0fe5ae-668d-4a6a-f122-fcf44d212552",
        "colab": {
          "base_uri": "https://localhost:8080/"
        }
      },
      "outputs": [
        {
          "output_type": "stream",
          "name": "stdout",
          "text": [
            "No complex plan predicted. Defaulting to a single task plan.\n",
            "=== Initial plan ===\n",
            "default:\n",
            "Summarize the key risk factors for Lyft and Uber in their 2021 10-K filings. -> \n",
            "deps: []\n",
            "\n",
            "\n"
          ]
        }
      ],
      "source": [
        "plan_id = agent.create_plan(\n",
        "    \"Summarize the key risk factors for Lyft and Uber in their 2021 10-K filings.\"\n",
        ")"
      ]
    },
    {
      "cell_type": "markdown",
      "metadata": {
        "id": "zXySO2rmQJO5"
      },
      "source": [
        "### Inspect the initial tasks and plan"
      ]
    },
    {
      "cell_type": "code",
      "execution_count": 23,
      "metadata": {
        "id": "Ih-3iflFQJO5",
        "outputId": "c8778bc7-83b3-4176-9231-d8fe85a67721",
        "colab": {
          "base_uri": "https://localhost:8080/"
        }
      },
      "outputs": [
        {
          "output_type": "stream",
          "name": "stdout",
          "text": [
            "===== Sub Task default =====\n",
            "Expected output:  \n",
            "Dependencies:  []\n"
          ]
        }
      ],
      "source": [
        "plan = agent.state.plan_dict[plan_id]\n",
        "\n",
        "for sub_task in plan.sub_tasks:\n",
        "    print(f\"===== Sub Task {sub_task.name} =====\")\n",
        "    print(\"Expected output: \", sub_task.expected_output)\n",
        "    print(\"Dependencies: \", sub_task.dependencies)"
      ]
    },
    {
      "cell_type": "markdown",
      "metadata": {
        "id": "MM-qPivyQJO6"
      },
      "source": [
        "### Execute the first set of tasks\n",
        "\n",
        "Here, we execute the first set of tasks with their dependencies met."
      ]
    },
    {
      "cell_type": "code",
      "execution_count": 24,
      "metadata": {
        "id": "smbtMD-aQJO6",
        "outputId": "2585df90-1309-45b7-b10a-3c9ac4164e05",
        "colab": {
          "base_uri": "https://localhost:8080/"
        }
      },
      "outputs": [
        {
          "output_type": "stream",
          "name": "stdout",
          "text": [
            "===== Sub Task default =====\n",
            "Expected output:  \n",
            "Dependencies:  []\n",
            "> Running step 736be661-c2fc-4532-b52c-72f396f44f66. Step input: Summarize the key risk factors for Lyft and Uber in their 2021 10-K filings.\n",
            "Added user message to memory: Summarize the key risk factors for Lyft and Uber in their 2021 10-K filings.\n",
            "=== LLM Response ===\n",
            "As of my last update, I can provide a general summary of the key risk factors identified by Lyft and Uber in their 2021 10-K filings. Please note that the specific details may vary, and for the most accurate and up-to-date information, you should refer to the companies' actual filings.\n",
            "\n",
            "**Lyft's Key Risk Factors (2021 10-K):**\n",
            "\n",
            "1. **Competition:** Lyft faces intense competition from established players like Uber and new entrants in the ride-sharing and gig economy space. This competition could lead to reduced market share and increased costs.\n",
            "\n",
            "2. **Regulatory Changes:** Changes in regulations, including those related to labor laws, could impact Lyft's business model and increase costs.\n",
            "\n",
            "3. **Driver Relations:** Maintaining good relationships with drivers is crucial for Lyft's operations. Disputes or dissatisfaction among drivers could affect service quality and availability.\n",
            "\n",
            "4. **COVID-19 Impact:** The pandemic has caused fluctuations in demand for ride-sharing services and could continue to impact the company's financial performance.\n",
            "\n",
            "5. **Cybersecurity:** Cybersecurity threats and data breaches could damage the company's reputation and lead to costly remediation efforts.\n",
            "\n",
            "6. **Financial Performance:** The company's ability to generate profits and maintain a positive cash flow is uncertain, especially given the competitive landscape and regulatory environment.\n",
            "\n",
            "**Uber's Key Risk Factors (2021 10-K):**\n",
            "\n",
            "1. **Competition:** Similar to Lyft, Uber faces significant competition, which could lead to reduced market share and increased costs.\n",
            "\n",
            "2. **Regulatory Changes:** Changes in regulations, particularly in the areas of labor and transportation, could impact Uber's business model and increase compliance costs.\n",
            "\n",
            "3. **Driver and Employee Relations:** Uber has faced challenges with driver and employee relations, which could affect its ability to retain talent and maintain service quality.\n",
            "\n",
            "4. **COVID-19 Impact:** The pandemic has disrupted the transportation industry, and Uber's financial performance may continue to be affected by changes in consumer behavior and demand.\n",
            "\n",
            "5. **Cybersecurity:** Like Lyft, Uber is vulnerable to cybersecurity threats, which could lead to data breaches and financial losses.\n",
            "\n",
            "6. **Financial Performance:** Uber's profitability is uncertain, and the company may face challenges in generating consistent profits due to high operating expenses and competition.\n",
            "\n",
            "Both companies highlighted the importance of adapting to changing market conditions, managing costs, and maintaining a strong competitive position in their respective markets. They also emphasized the need to navigate the evolving regulatory landscape and manage the risks associated with their gig economy business models.\n"
          ]
        }
      ],
      "source": [
        "next_tasks = agent.state.get_next_sub_tasks(plan_id)\n",
        "\n",
        "for sub_task in next_tasks:\n",
        "    print(f\"===== Sub Task {sub_task.name} =====\")\n",
        "    print(\"Expected output: \", sub_task.expected_output)\n",
        "    print(\"Dependencies: \", sub_task.dependencies)\n",
        "\n",
        "\n",
        "for sub_task in next_tasks:\n",
        "    response = agent.run_task(sub_task.name)\n",
        "    agent.mark_task_complete(plan_id, sub_task.name)"
      ]
    },
    {
      "cell_type": "markdown",
      "metadata": {
        "id": "V4_lx4mRQJO6"
      },
      "source": [
        "If we wanted to, we could even execute each task in a step-wise fashion. It would look something like this:\n",
        "\n",
        "```python\n",
        "# Step-wise execution per task\n",
        "\n",
        "for sub_task in next_tasks:\n",
        "    # get the task from the state\n",
        "    task = agent.state.get_task(sub_task.name)\n",
        "\n",
        "    # run intial resoning step\n",
        "    step_output = agent.run_step(task.task_id)\n",
        "\n",
        "    # loop until the last step is reached\n",
        "    while not step_output.is_last:\n",
        "        step_output = agent.run_step(task.task_id)\n",
        "    \n",
        "    # finalize the response and commit to memory\n",
        "    agent.finalize_response(task.task_id, step_output=step_output)\n",
        "```"
      ]
    },
    {
      "cell_type": "markdown",
      "metadata": {
        "id": "9O2m6326QJO6"
      },
      "source": [
        "### Check if we are done\n",
        "\n",
        "If there are no remaining tasks, then we can stop. Otherwise, we can refine the current plan and continue"
      ]
    },
    {
      "cell_type": "code",
      "execution_count": 25,
      "metadata": {
        "id": "UOr_LlnRQJO7",
        "outputId": "368d825e-fb8e-4ed1-9706-6695050a8248",
        "colab": {
          "base_uri": "https://localhost:8080/"
        }
      },
      "outputs": [
        {
          "output_type": "stream",
          "name": "stdout",
          "text": [
            "0\n"
          ]
        }
      ],
      "source": [
        "next_tasks = agent.get_next_tasks(plan_id)\n",
        "print(len(next_tasks))"
      ]
    },
    {
      "cell_type": "code",
      "execution_count": 26,
      "metadata": {
        "id": "vkFORyuIQJO7"
      },
      "outputs": [],
      "source": [
        "for sub_task in next_tasks:\n",
        "    print(f\"===== Sub Task {sub_task} =====\")"
      ]
    },
    {
      "cell_type": "markdown",
      "metadata": {
        "id": "N_jxwyz_QJO7"
      },
      "source": [
        "### Refine the plan\n",
        "\n",
        "Since we have tasks remaining, lets refine our plan to make sure we are on track."
      ]
    },
    {
      "cell_type": "code",
      "execution_count": 27,
      "metadata": {
        "id": "NfT41miOQJO7"
      },
      "outputs": [],
      "source": [
        "# refine the plan\n",
        "agent.refine_plan(\n",
        "    \"Summarize the key risk factors for Lyft and Uber in their 2021 10-K filings.\",\n",
        "    plan_id,\n",
        ")"
      ]
    },
    {
      "cell_type": "code",
      "execution_count": 28,
      "metadata": {
        "id": "J736DcIPQJO8",
        "outputId": "8bb4c189-a55a-4bcd-9292-cc30bdea2b54",
        "colab": {
          "base_uri": "https://localhost:8080/"
        }
      },
      "outputs": [
        {
          "output_type": "stream",
          "name": "stdout",
          "text": [
            "===== Sub Task default =====\n",
            "Expected output:  \n",
            "Dependencies:  []\n"
          ]
        }
      ],
      "source": [
        "plan = agent.state.plan_dict[plan_id]\n",
        "\n",
        "for sub_task in plan.sub_tasks:\n",
        "    print(f\"===== Sub Task {sub_task.name} =====\")\n",
        "    print(\"Expected output: \", sub_task.expected_output)\n",
        "    print(\"Dependencies: \", sub_task.dependencies)"
      ]
    },
    {
      "cell_type": "markdown",
      "metadata": {
        "id": "g4tg0WuNQJO8"
      },
      "source": [
        "### Loop until done\n",
        "\n",
        "With our plan refined, we can repeat this process until we have no more tasks to run."
      ]
    },
    {
      "cell_type": "code",
      "execution_count": 35,
      "metadata": {
        "id": "5f9GfouMQJO8",
        "outputId": "0bc72718-ee35-4862-acd9-aa7e0afaceda",
        "colab": {
          "base_uri": "https://localhost:8080/"
        }
      },
      "outputs": [
        {
          "output_type": "stream",
          "name": "stdout",
          "text": [
            "No responses found.\n"
          ]
        }
      ],
      "source": [
        "import asyncio\n",
        "\n",
        "# Initialize responses as an empty list to ensure it's defined even if the loop doesn't run\n",
        "responses = []\n",
        "\n",
        "while True:\n",
        "    # are we done?\n",
        "    next_tasks = agent.get_next_tasks(plan_id)\n",
        "    if len(next_tasks) == 0:\n",
        "        break\n",
        "\n",
        "    # run concurrently for better performance\n",
        "    responses = await asyncio.gather(\n",
        "        *[agent.run_task(task_id) for task_id in next_tasks]\n",
        "    )\n",
        "    for task_id in next_tasks:\n",
        "        agent.mark_task_complete(plan_id, task_id)\n",
        "\n",
        "    # refine the plan\n",
        "    await agent.refine_plan(\n",
        "        \"Summarize the key risk factors for Lyft and Uber in their 2021 10-K filings.\",\n",
        "        plan_id,\n",
        "    )\n",
        "\n",
        "# Check if responses is not empty before accessing elements\n",
        "if responses:\n",
        "    print(str(responses[-1]))\n",
        "else:\n",
        "    print(\"No responses found.\")"
      ]
    },
    {
      "cell_type": "markdown",
      "metadata": {
        "id": "3HFvTFhiQJO9"
      },
      "source": [
        "By the end, we should have a single response, which is our final response"
      ]
    }
  ],
  "metadata": {
    "kernelspec": {
      "display_name": "venv",
      "language": "python",
      "name": "python3"
    },
    "language_info": {
      "codemirror_mode": {
        "name": "ipython",
        "version": 3
      },
      "file_extension": ".py",
      "mimetype": "text/x-python",
      "name": "python",
      "nbconvert_exporter": "python",
      "pygments_lexer": "ipython3"
    },
    "colab": {
      "provenance": [],
      "include_colab_link": true
    }
  },
  "nbformat": 4,
  "nbformat_minor": 0
}