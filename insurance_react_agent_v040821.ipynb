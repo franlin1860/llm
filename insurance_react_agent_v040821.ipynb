{
  "cells": [
    {
      "cell_type": "markdown",
      "metadata": {
        "id": "view-in-github",
        "colab_type": "text"
      },
      "source": [
        "<a href=\"https://colab.research.google.com/github/franlin1860/llm/blob/main/insurance_react_agent_v040821.ipynb\" target=\"_parent\"><img src=\"https://colab.research.google.com/assets/colab-badge.svg\" alt=\"Open In Colab\"/></a>"
      ]
    },
    {
      "cell_type": "markdown",
      "metadata": {
        "id": "Jb_Sg6-MNpdl"
      },
      "source": [
        "# Workflow for a Insurance ReAct Agent\n",
        "\n",
        "This notebook walks through setting up a `Workflow` to construct a ReAct agent from (mostly) scratch.\n",
        "\n",
        "React calling agents work by prompting an LLM to either invoke tools/functions, or return a final response.\n",
        "\n",
        "Our workflow will be stateful with memory, and will be able to call the LLM to select tools and process incoming user messages."
      ]
    },
    {
      "cell_type": "markdown",
      "source": [
        "# 防断开"
      ],
      "metadata": {
        "id": "0HmzIowRN846"
      }
    },
    {
      "cell_type": "code",
      "source": [
        "#@markdown <h3>← 输入了代码后运行以防止断开</h>\n",
        "import IPython\n",
        "from google.colab import output\n",
        "\n",
        "display(IPython.display.Javascript('''\n",
        " function ClickConnect(){\n",
        "   btn = document.querySelector(\"colab-connect-button\")\n",
        "   if (btn != null){\n",
        "     console.log(\"Click colab-connect-button\");\n",
        "     btn.click()\n",
        "     }\n",
        "\n",
        "   btn = document.getElementById('ok')\n",
        "   if (btn != null){\n",
        "     console.log(\"Click reconnect\");\n",
        "     btn.click()\n",
        "     }\n",
        "  }\n",
        "\n",
        "setInterval(ClickConnect,60000)\n",
        "'''))\n",
        "\n",
        "print(\"Done.\")"
      ],
      "metadata": {
        "colab": {
          "base_uri": "https://localhost:8080/",
          "height": 34
        },
        "id": "WeShwxf5OByA",
        "outputId": "4021b6b7-ed75-47a5-8014-fbb8f45ad295"
      },
      "execution_count": 6,
      "outputs": [
        {
          "output_type": "display_data",
          "data": {
            "text/plain": [
              "<IPython.core.display.Javascript object>"
            ],
            "application/javascript": [
              "\n",
              " function ClickConnect(){\n",
              "   btn = document.querySelector(\"colab-connect-button\")\n",
              "   if (btn != null){\n",
              "     console.log(\"Click colab-connect-button\");\n",
              "     btn.click()\n",
              "     }\n",
              "\n",
              "   btn = document.getElementById('ok')\n",
              "   if (btn != null){\n",
              "     console.log(\"Click reconnect\");\n",
              "     btn.click()\n",
              "     }\n",
              "  }\n",
              "\n",
              "setInterval(ClickConnect,60000)\n"
            ]
          },
          "metadata": {}
        },
        {
          "output_type": "stream",
          "name": "stdout",
          "text": [
            "Done.\n"
          ]
        }
      ]
    },
    {
      "cell_type": "code",
      "source": [
        "function ConnectButton(){\n",
        "    console.log(\"Connect pushed\");\n",
        "    document.querySelector(\"#connect\").click()\n",
        "}\n",
        "setInterval(ConnectButton,60000);"
      ],
      "metadata": {
        "id": "5pM2B6ZVOUVJ"
      },
      "execution_count": null,
      "outputs": []
    },
    {
      "cell_type": "code",
      "execution_count": 3,
      "metadata": {
        "id": "kP_xniX4Npdn",
        "colab": {
          "base_uri": "https://localhost:8080/"
        },
        "collapsed": true,
        "outputId": "26a7e460-0201-4a64-e72a-886eeae19cff"
      },
      "outputs": [
        {
          "output_type": "stream",
          "name": "stdout",
          "text": [
            "Collecting llama-index\n",
            "  Downloading llama_index-0.10.67.post1-py3-none-any.whl.metadata (11 kB)\n",
            "Collecting llama-index-agent-openai<0.3.0,>=0.1.4 (from llama-index)\n",
            "  Downloading llama_index_agent_openai-0.2.9-py3-none-any.whl.metadata (729 bytes)\n",
            "Collecting llama-index-cli<0.2.0,>=0.1.2 (from llama-index)\n",
            "  Downloading llama_index_cli-0.1.13-py3-none-any.whl.metadata (1.5 kB)\n",
            "Collecting llama-index-core<0.11.0,>=0.10.67 (from llama-index)\n",
            "  Downloading llama_index_core-0.10.67-py3-none-any.whl.metadata (2.4 kB)\n",
            "Collecting llama-index-embeddings-openai<0.2.0,>=0.1.5 (from llama-index)\n",
            "  Downloading llama_index_embeddings_openai-0.1.11-py3-none-any.whl.metadata (655 bytes)\n",
            "Collecting llama-index-indices-managed-llama-cloud>=0.2.0 (from llama-index)\n",
            "  Downloading llama_index_indices_managed_llama_cloud-0.2.7-py3-none-any.whl.metadata (3.8 kB)\n",
            "Collecting llama-index-legacy<0.10.0,>=0.9.48 (from llama-index)\n",
            "  Downloading llama_index_legacy-0.9.48.post3-py3-none-any.whl.metadata (8.5 kB)\n",
            "Collecting llama-index-llms-openai<0.2.0,>=0.1.27 (from llama-index)\n",
            "  Downloading llama_index_llms_openai-0.1.30-py3-none-any.whl.metadata (650 bytes)\n",
            "Collecting llama-index-multi-modal-llms-openai<0.2.0,>=0.1.3 (from llama-index)\n",
            "  Downloading llama_index_multi_modal_llms_openai-0.1.9-py3-none-any.whl.metadata (728 bytes)\n",
            "Collecting llama-index-program-openai<0.2.0,>=0.1.3 (from llama-index)\n",
            "  Downloading llama_index_program_openai-0.1.7-py3-none-any.whl.metadata (760 bytes)\n",
            "Collecting llama-index-question-gen-openai<0.2.0,>=0.1.2 (from llama-index)\n",
            "  Downloading llama_index_question_gen_openai-0.1.3-py3-none-any.whl.metadata (785 bytes)\n",
            "Collecting llama-index-readers-file<0.2.0,>=0.1.4 (from llama-index)\n",
            "  Downloading llama_index_readers_file-0.1.33-py3-none-any.whl.metadata (5.4 kB)\n",
            "Collecting llama-index-readers-llama-parse>=0.1.2 (from llama-index)\n",
            "  Downloading llama_index_readers_llama_parse-0.1.6-py3-none-any.whl.metadata (3.6 kB)\n",
            "Collecting openai>=1.14.0 (from llama-index-agent-openai<0.3.0,>=0.1.4->llama-index)\n",
            "  Downloading openai-1.42.0-py3-none-any.whl.metadata (22 kB)\n",
            "Requirement already satisfied: PyYAML>=6.0.1 in /usr/local/lib/python3.10/dist-packages (from llama-index-core<0.11.0,>=0.10.67->llama-index) (6.0.2)\n",
            "Requirement already satisfied: SQLAlchemy>=1.4.49 in /usr/local/lib/python3.10/dist-packages (from SQLAlchemy[asyncio]>=1.4.49->llama-index-core<0.11.0,>=0.10.67->llama-index) (2.0.32)\n",
            "Requirement already satisfied: aiohttp<4.0.0,>=3.8.6 in /usr/local/lib/python3.10/dist-packages (from llama-index-core<0.11.0,>=0.10.67->llama-index) (3.10.3)\n",
            "Collecting dataclasses-json (from llama-index-core<0.11.0,>=0.10.67->llama-index)\n",
            "  Downloading dataclasses_json-0.6.7-py3-none-any.whl.metadata (25 kB)\n",
            "Collecting deprecated>=1.2.9.3 (from llama-index-core<0.11.0,>=0.10.67->llama-index)\n",
            "  Downloading Deprecated-1.2.14-py2.py3-none-any.whl.metadata (5.4 kB)\n",
            "Collecting dirtyjson<2.0.0,>=1.0.8 (from llama-index-core<0.11.0,>=0.10.67->llama-index)\n",
            "  Downloading dirtyjson-1.0.8-py3-none-any.whl.metadata (11 kB)\n",
            "Requirement already satisfied: fsspec>=2023.5.0 in /usr/local/lib/python3.10/dist-packages (from llama-index-core<0.11.0,>=0.10.67->llama-index) (2024.6.1)\n",
            "Collecting httpx (from llama-index-core<0.11.0,>=0.10.67->llama-index)\n",
            "  Downloading httpx-0.27.0-py3-none-any.whl.metadata (7.2 kB)\n",
            "Requirement already satisfied: nest-asyncio<2.0.0,>=1.5.8 in /usr/local/lib/python3.10/dist-packages (from llama-index-core<0.11.0,>=0.10.67->llama-index) (1.6.0)\n",
            "Requirement already satisfied: networkx>=3.0 in /usr/local/lib/python3.10/dist-packages (from llama-index-core<0.11.0,>=0.10.67->llama-index) (3.3)\n",
            "Requirement already satisfied: nltk!=3.9,>=3.8.1 in /usr/local/lib/python3.10/dist-packages (from llama-index-core<0.11.0,>=0.10.67->llama-index) (3.8.1)\n",
            "Requirement already satisfied: numpy<2.0.0 in /usr/local/lib/python3.10/dist-packages (from llama-index-core<0.11.0,>=0.10.67->llama-index) (1.26.4)\n",
            "Requirement already satisfied: pandas in /usr/local/lib/python3.10/dist-packages (from llama-index-core<0.11.0,>=0.10.67->llama-index) (2.1.4)\n",
            "Requirement already satisfied: pillow>=9.0.0 in /usr/local/lib/python3.10/dist-packages (from llama-index-core<0.11.0,>=0.10.67->llama-index) (9.4.0)\n",
            "Requirement already satisfied: requests>=2.31.0 in /usr/local/lib/python3.10/dist-packages (from llama-index-core<0.11.0,>=0.10.67->llama-index) (2.32.3)\n",
            "Collecting tenacity!=8.4.0,<9.0.0,>=8.2.0 (from llama-index-core<0.11.0,>=0.10.67->llama-index)\n",
            "  Downloading tenacity-8.5.0-py3-none-any.whl.metadata (1.2 kB)\n",
            "Collecting tiktoken>=0.3.3 (from llama-index-core<0.11.0,>=0.10.67->llama-index)\n",
            "  Downloading tiktoken-0.7.0-cp310-cp310-manylinux_2_17_x86_64.manylinux2014_x86_64.whl.metadata (6.6 kB)\n",
            "Requirement already satisfied: tqdm<5.0.0,>=4.66.1 in /usr/local/lib/python3.10/dist-packages (from llama-index-core<0.11.0,>=0.10.67->llama-index) (4.66.5)\n",
            "Requirement already satisfied: typing-extensions>=4.5.0 in /usr/local/lib/python3.10/dist-packages (from llama-index-core<0.11.0,>=0.10.67->llama-index) (4.12.2)\n",
            "Collecting typing-inspect>=0.8.0 (from llama-index-core<0.11.0,>=0.10.67->llama-index)\n",
            "  Downloading typing_inspect-0.9.0-py3-none-any.whl.metadata (1.5 kB)\n",
            "Requirement already satisfied: wrapt in /usr/local/lib/python3.10/dist-packages (from llama-index-core<0.11.0,>=0.10.67->llama-index) (1.16.0)\n",
            "Collecting llama-cloud>=0.0.11 (from llama-index-indices-managed-llama-cloud>=0.2.0->llama-index)\n",
            "  Downloading llama_cloud-0.0.13-py3-none-any.whl.metadata (751 bytes)\n",
            "Requirement already satisfied: beautifulsoup4<5.0.0,>=4.12.3 in /usr/local/lib/python3.10/dist-packages (from llama-index-readers-file<0.2.0,>=0.1.4->llama-index) (4.12.3)\n",
            "Collecting pypdf<5.0.0,>=4.0.1 (from llama-index-readers-file<0.2.0,>=0.1.4->llama-index)\n",
            "  Downloading pypdf-4.3.1-py3-none-any.whl.metadata (7.4 kB)\n",
            "Collecting striprtf<0.0.27,>=0.0.26 (from llama-index-readers-file<0.2.0,>=0.1.4->llama-index)\n",
            "  Downloading striprtf-0.0.26-py3-none-any.whl.metadata (2.1 kB)\n",
            "Collecting llama-parse>=0.4.0 (from llama-index-readers-llama-parse>=0.1.2->llama-index)\n",
            "  Downloading llama_parse-0.4.9-py3-none-any.whl.metadata (4.4 kB)\n",
            "Requirement already satisfied: aiohappyeyeballs>=2.3.0 in /usr/local/lib/python3.10/dist-packages (from aiohttp<4.0.0,>=3.8.6->llama-index-core<0.11.0,>=0.10.67->llama-index) (2.3.5)\n",
            "Requirement already satisfied: aiosignal>=1.1.2 in /usr/local/lib/python3.10/dist-packages (from aiohttp<4.0.0,>=3.8.6->llama-index-core<0.11.0,>=0.10.67->llama-index) (1.3.1)\n",
            "Requirement already satisfied: attrs>=17.3.0 in /usr/local/lib/python3.10/dist-packages (from aiohttp<4.0.0,>=3.8.6->llama-index-core<0.11.0,>=0.10.67->llama-index) (24.2.0)\n",
            "Requirement already satisfied: frozenlist>=1.1.1 in /usr/local/lib/python3.10/dist-packages (from aiohttp<4.0.0,>=3.8.6->llama-index-core<0.11.0,>=0.10.67->llama-index) (1.4.1)\n",
            "Requirement already satisfied: multidict<7.0,>=4.5 in /usr/local/lib/python3.10/dist-packages (from aiohttp<4.0.0,>=3.8.6->llama-index-core<0.11.0,>=0.10.67->llama-index) (6.0.5)\n",
            "Requirement already satisfied: yarl<2.0,>=1.0 in /usr/local/lib/python3.10/dist-packages (from aiohttp<4.0.0,>=3.8.6->llama-index-core<0.11.0,>=0.10.67->llama-index) (1.9.4)\n",
            "Requirement already satisfied: async-timeout<5.0,>=4.0 in /usr/local/lib/python3.10/dist-packages (from aiohttp<4.0.0,>=3.8.6->llama-index-core<0.11.0,>=0.10.67->llama-index) (4.0.3)\n",
            "Requirement already satisfied: soupsieve>1.2 in /usr/local/lib/python3.10/dist-packages (from beautifulsoup4<5.0.0,>=4.12.3->llama-index-readers-file<0.2.0,>=0.1.4->llama-index) (2.6)\n",
            "Requirement already satisfied: pydantic>=1.10 in /usr/local/lib/python3.10/dist-packages (from llama-cloud>=0.0.11->llama-index-indices-managed-llama-cloud>=0.2.0->llama-index) (2.8.2)\n",
            "Requirement already satisfied: anyio in /usr/local/lib/python3.10/dist-packages (from httpx->llama-index-core<0.11.0,>=0.10.67->llama-index) (3.7.1)\n",
            "Requirement already satisfied: certifi in /usr/local/lib/python3.10/dist-packages (from httpx->llama-index-core<0.11.0,>=0.10.67->llama-index) (2024.7.4)\n",
            "Collecting httpcore==1.* (from httpx->llama-index-core<0.11.0,>=0.10.67->llama-index)\n",
            "  Downloading httpcore-1.0.5-py3-none-any.whl.metadata (20 kB)\n",
            "Requirement already satisfied: idna in /usr/local/lib/python3.10/dist-packages (from httpx->llama-index-core<0.11.0,>=0.10.67->llama-index) (3.7)\n",
            "Requirement already satisfied: sniffio in /usr/local/lib/python3.10/dist-packages (from httpx->llama-index-core<0.11.0,>=0.10.67->llama-index) (1.3.1)\n",
            "Collecting h11<0.15,>=0.13 (from httpcore==1.*->httpx->llama-index-core<0.11.0,>=0.10.67->llama-index)\n",
            "  Downloading h11-0.14.0-py3-none-any.whl.metadata (8.2 kB)\n",
            "Requirement already satisfied: click in /usr/local/lib/python3.10/dist-packages (from nltk!=3.9,>=3.8.1->llama-index-core<0.11.0,>=0.10.67->llama-index) (8.1.7)\n",
            "Requirement already satisfied: joblib in /usr/local/lib/python3.10/dist-packages (from nltk!=3.9,>=3.8.1->llama-index-core<0.11.0,>=0.10.67->llama-index) (1.4.2)\n",
            "Requirement already satisfied: regex>=2021.8.3 in /usr/local/lib/python3.10/dist-packages (from nltk!=3.9,>=3.8.1->llama-index-core<0.11.0,>=0.10.67->llama-index) (2024.5.15)\n",
            "Requirement already satisfied: distro<2,>=1.7.0 in /usr/lib/python3/dist-packages (from openai>=1.14.0->llama-index-agent-openai<0.3.0,>=0.1.4->llama-index) (1.7.0)\n",
            "Collecting jiter<1,>=0.4.0 (from openai>=1.14.0->llama-index-agent-openai<0.3.0,>=0.1.4->llama-index)\n",
            "  Downloading jiter-0.5.0-cp310-cp310-manylinux_2_17_x86_64.manylinux2014_x86_64.whl.metadata (3.6 kB)\n",
            "Requirement already satisfied: charset-normalizer<4,>=2 in /usr/local/lib/python3.10/dist-packages (from requests>=2.31.0->llama-index-core<0.11.0,>=0.10.67->llama-index) (3.3.2)\n",
            "Requirement already satisfied: urllib3<3,>=1.21.1 in /usr/local/lib/python3.10/dist-packages (from requests>=2.31.0->llama-index-core<0.11.0,>=0.10.67->llama-index) (2.0.7)\n",
            "Requirement already satisfied: greenlet!=0.4.17 in /usr/local/lib/python3.10/dist-packages (from SQLAlchemy>=1.4.49->SQLAlchemy[asyncio]>=1.4.49->llama-index-core<0.11.0,>=0.10.67->llama-index) (3.0.3)\n",
            "Collecting mypy-extensions>=0.3.0 (from typing-inspect>=0.8.0->llama-index-core<0.11.0,>=0.10.67->llama-index)\n",
            "  Downloading mypy_extensions-1.0.0-py3-none-any.whl.metadata (1.1 kB)\n",
            "Collecting marshmallow<4.0.0,>=3.18.0 (from dataclasses-json->llama-index-core<0.11.0,>=0.10.67->llama-index)\n",
            "  Downloading marshmallow-3.22.0-py3-none-any.whl.metadata (7.2 kB)\n",
            "Requirement already satisfied: python-dateutil>=2.8.2 in /usr/local/lib/python3.10/dist-packages (from pandas->llama-index-core<0.11.0,>=0.10.67->llama-index) (2.8.2)\n",
            "Requirement already satisfied: pytz>=2020.1 in /usr/local/lib/python3.10/dist-packages (from pandas->llama-index-core<0.11.0,>=0.10.67->llama-index) (2024.1)\n",
            "Requirement already satisfied: tzdata>=2022.1 in /usr/local/lib/python3.10/dist-packages (from pandas->llama-index-core<0.11.0,>=0.10.67->llama-index) (2024.1)\n",
            "Requirement already satisfied: exceptiongroup in /usr/local/lib/python3.10/dist-packages (from anyio->httpx->llama-index-core<0.11.0,>=0.10.67->llama-index) (1.2.2)\n",
            "Requirement already satisfied: packaging>=17.0 in /usr/local/lib/python3.10/dist-packages (from marshmallow<4.0.0,>=3.18.0->dataclasses-json->llama-index-core<0.11.0,>=0.10.67->llama-index) (24.1)\n",
            "Requirement already satisfied: annotated-types>=0.4.0 in /usr/local/lib/python3.10/dist-packages (from pydantic>=1.10->llama-cloud>=0.0.11->llama-index-indices-managed-llama-cloud>=0.2.0->llama-index) (0.7.0)\n",
            "Requirement already satisfied: pydantic-core==2.20.1 in /usr/local/lib/python3.10/dist-packages (from pydantic>=1.10->llama-cloud>=0.0.11->llama-index-indices-managed-llama-cloud>=0.2.0->llama-index) (2.20.1)\n",
            "Requirement already satisfied: six>=1.5 in /usr/local/lib/python3.10/dist-packages (from python-dateutil>=2.8.2->pandas->llama-index-core<0.11.0,>=0.10.67->llama-index) (1.16.0)\n",
            "Downloading llama_index-0.10.67.post1-py3-none-any.whl (6.9 kB)\n",
            "Downloading llama_index_agent_openai-0.2.9-py3-none-any.whl (13 kB)\n",
            "Downloading llama_index_cli-0.1.13-py3-none-any.whl (27 kB)\n",
            "Downloading llama_index_core-0.10.67-py3-none-any.whl (15.5 MB)\n",
            "\u001b[2K   \u001b[90m━━━━━━━━━━━━━━━━━━━━━━━━━━━━━━━━━━━━━━━━\u001b[0m \u001b[32m15.5/15.5 MB\u001b[0m \u001b[31m39.8 MB/s\u001b[0m eta \u001b[36m0:00:00\u001b[0m\n",
            "\u001b[?25hDownloading llama_index_embeddings_openai-0.1.11-py3-none-any.whl (6.3 kB)\n",
            "Downloading llama_index_indices_managed_llama_cloud-0.2.7-py3-none-any.whl (9.5 kB)\n",
            "Downloading llama_index_legacy-0.9.48.post3-py3-none-any.whl (1.2 MB)\n",
            "\u001b[2K   \u001b[90m━━━━━━━━━━━━━━━━━━━━━━━━━━━━━━━━━━━━━━━━\u001b[0m \u001b[32m1.2/1.2 MB\u001b[0m \u001b[31m36.2 MB/s\u001b[0m eta \u001b[36m0:00:00\u001b[0m\n",
            "\u001b[?25hDownloading llama_index_llms_openai-0.1.30-py3-none-any.whl (11 kB)\n",
            "Downloading llama_index_multi_modal_llms_openai-0.1.9-py3-none-any.whl (5.9 kB)\n",
            "Downloading llama_index_program_openai-0.1.7-py3-none-any.whl (5.3 kB)\n",
            "Downloading llama_index_question_gen_openai-0.1.3-py3-none-any.whl (2.9 kB)\n",
            "Downloading llama_index_readers_file-0.1.33-py3-none-any.whl (38 kB)\n",
            "Downloading llama_index_readers_llama_parse-0.1.6-py3-none-any.whl (2.5 kB)\n",
            "Downloading Deprecated-1.2.14-py2.py3-none-any.whl (9.6 kB)\n",
            "Downloading dirtyjson-1.0.8-py3-none-any.whl (25 kB)\n",
            "Downloading llama_cloud-0.0.13-py3-none-any.whl (169 kB)\n",
            "\u001b[2K   \u001b[90m━━━━━━━━━━━━━━━━━━━━━━━━━━━━━━━━━━━━━━━━\u001b[0m \u001b[32m169.4/169.4 kB\u001b[0m \u001b[31m10.5 MB/s\u001b[0m eta \u001b[36m0:00:00\u001b[0m\n",
            "\u001b[?25hDownloading httpx-0.27.0-py3-none-any.whl (75 kB)\n",
            "\u001b[2K   \u001b[90m━━━━━━━━━━━━━━━━━━━━━━━━━━━━━━━━━━━━━━━━\u001b[0m \u001b[32m75.6/75.6 kB\u001b[0m \u001b[31m4.7 MB/s\u001b[0m eta \u001b[36m0:00:00\u001b[0m\n",
            "\u001b[?25hDownloading httpcore-1.0.5-py3-none-any.whl (77 kB)\n",
            "\u001b[2K   \u001b[90m━━━━━━━━━━━━━━━━━━━━━━━━━━━━━━━━━━━━━━━━\u001b[0m \u001b[32m77.9/77.9 kB\u001b[0m \u001b[31m4.7 MB/s\u001b[0m eta \u001b[36m0:00:00\u001b[0m\n",
            "\u001b[?25hDownloading llama_parse-0.4.9-py3-none-any.whl (9.4 kB)\n",
            "Downloading openai-1.42.0-py3-none-any.whl (362 kB)\n",
            "\u001b[2K   \u001b[90m━━━━━━━━━━━━━━━━━━━━━━━━━━━━━━━━━━━━━━━━\u001b[0m \u001b[32m362.9/362.9 kB\u001b[0m \u001b[31m20.2 MB/s\u001b[0m eta \u001b[36m0:00:00\u001b[0m\n",
            "\u001b[?25hDownloading pypdf-4.3.1-py3-none-any.whl (295 kB)\n",
            "\u001b[2K   \u001b[90m━━━━━━━━━━━━━━━━━━━━━━━━━━━━━━━━━━━━━━━━\u001b[0m \u001b[32m295.8/295.8 kB\u001b[0m \u001b[31m16.0 MB/s\u001b[0m eta \u001b[36m0:00:00\u001b[0m\n",
            "\u001b[?25hDownloading striprtf-0.0.26-py3-none-any.whl (6.9 kB)\n",
            "Downloading tenacity-8.5.0-py3-none-any.whl (28 kB)\n",
            "Downloading tiktoken-0.7.0-cp310-cp310-manylinux_2_17_x86_64.manylinux2014_x86_64.whl (1.1 MB)\n",
            "\u001b[2K   \u001b[90m━━━━━━━━━━━━━━━━━━━━━━━━━━━━━━━━━━━━━━━━\u001b[0m \u001b[32m1.1/1.1 MB\u001b[0m \u001b[31m31.1 MB/s\u001b[0m eta \u001b[36m0:00:00\u001b[0m\n",
            "\u001b[?25hDownloading typing_inspect-0.9.0-py3-none-any.whl (8.8 kB)\n",
            "Downloading dataclasses_json-0.6.7-py3-none-any.whl (28 kB)\n",
            "Downloading jiter-0.5.0-cp310-cp310-manylinux_2_17_x86_64.manylinux2014_x86_64.whl (318 kB)\n",
            "\u001b[2K   \u001b[90m━━━━━━━━━━━━━━━━━━━━━━━━━━━━━━━━━━━━━━━━\u001b[0m \u001b[32m318.9/318.9 kB\u001b[0m \u001b[31m16.0 MB/s\u001b[0m eta \u001b[36m0:00:00\u001b[0m\n",
            "\u001b[?25hDownloading marshmallow-3.22.0-py3-none-any.whl (49 kB)\n",
            "\u001b[2K   \u001b[90m━━━━━━━━━━━━━━━━━━━━━━━━━━━━━━━━━━━━━━━━\u001b[0m \u001b[32m49.3/49.3 kB\u001b[0m \u001b[31m3.0 MB/s\u001b[0m eta \u001b[36m0:00:00\u001b[0m\n",
            "\u001b[?25hDownloading mypy_extensions-1.0.0-py3-none-any.whl (4.7 kB)\n",
            "Downloading h11-0.14.0-py3-none-any.whl (58 kB)\n",
            "\u001b[2K   \u001b[90m━━━━━━━━━━━━━━━━━━━━━━━━━━━━━━━━━━━━━━━━\u001b[0m \u001b[32m58.3/58.3 kB\u001b[0m \u001b[31m3.4 MB/s\u001b[0m eta \u001b[36m0:00:00\u001b[0m\n",
            "\u001b[?25hInstalling collected packages: striprtf, dirtyjson, tenacity, pypdf, mypy-extensions, marshmallow, jiter, h11, deprecated, typing-inspect, tiktoken, httpcore, httpx, dataclasses-json, openai, llama-cloud, llama-index-legacy, llama-index-core, llama-parse, llama-index-readers-file, llama-index-llms-openai, llama-index-indices-managed-llama-cloud, llama-index-embeddings-openai, llama-index-readers-llama-parse, llama-index-multi-modal-llms-openai, llama-index-cli, llama-index-agent-openai, llama-index-program-openai, llama-index-question-gen-openai, llama-index\n",
            "  Attempting uninstall: tenacity\n",
            "    Found existing installation: tenacity 9.0.0\n",
            "    Uninstalling tenacity-9.0.0:\n",
            "      Successfully uninstalled tenacity-9.0.0\n",
            "Successfully installed dataclasses-json-0.6.7 deprecated-1.2.14 dirtyjson-1.0.8 h11-0.14.0 httpcore-1.0.5 httpx-0.27.0 jiter-0.5.0 llama-cloud-0.0.13 llama-index-0.10.67.post1 llama-index-agent-openai-0.2.9 llama-index-cli-0.1.13 llama-index-core-0.10.67 llama-index-embeddings-openai-0.1.11 llama-index-indices-managed-llama-cloud-0.2.7 llama-index-legacy-0.9.48.post3 llama-index-llms-openai-0.1.30 llama-index-multi-modal-llms-openai-0.1.9 llama-index-program-openai-0.1.7 llama-index-question-gen-openai-0.1.3 llama-index-readers-file-0.1.33 llama-index-readers-llama-parse-0.1.6 llama-parse-0.4.9 marshmallow-3.22.0 mypy-extensions-1.0.0 openai-1.42.0 pypdf-4.3.1 striprtf-0.0.26 tenacity-8.5.0 tiktoken-0.7.0 typing-inspect-0.9.0\n"
          ]
        }
      ],
      "source": [
        "!pip install -U llama-index"
      ]
    },
    {
      "cell_type": "code",
      "execution_count": 5,
      "metadata": {
        "id": "H74H7vr5Npdp"
      },
      "outputs": [],
      "source": [
        "import os\n",
        "\n",
        "os.environ[\"DEEPSEEK_API_KEY\"] = \"sk-\""
      ]
    },
    {
      "cell_type": "markdown",
      "source": [
        "# Set up LLM"
      ],
      "metadata": {
        "id": "uUYVqTtqsZFg"
      }
    },
    {
      "cell_type": "code",
      "source": [
        "!pip install llama_index-llms-openai_like\n",
        "!pip install llama_index-embeddings-huggingface"
      ],
      "metadata": {
        "colab": {
          "base_uri": "https://localhost:8080/"
        },
        "collapsed": true,
        "id": "ZVRUVsvesdbi",
        "outputId": "6d93cc2b-7601-453f-c5c1-74e5a5b781d0"
      },
      "execution_count": 4,
      "outputs": [
        {
          "output_type": "stream",
          "name": "stdout",
          "text": [
            "Collecting llama_index-llms-openai_like\n",
            "  Downloading llama_index_llms_openai_like-0.1.3-py3-none-any.whl.metadata (753 bytes)\n",
            "Requirement already satisfied: llama-index-core<0.11.0,>=0.10.1 in /usr/local/lib/python3.10/dist-packages (from llama_index-llms-openai_like) (0.10.67)\n",
            "Requirement already satisfied: llama-index-llms-openai<0.2.0,>=0.1.1 in /usr/local/lib/python3.10/dist-packages (from llama_index-llms-openai_like) (0.1.30)\n",
            "Requirement already satisfied: transformers<5.0.0,>=4.37.0 in /usr/local/lib/python3.10/dist-packages (from llama_index-llms-openai_like) (4.42.4)\n",
            "Requirement already satisfied: PyYAML>=6.0.1 in /usr/local/lib/python3.10/dist-packages (from llama-index-core<0.11.0,>=0.10.1->llama_index-llms-openai_like) (6.0.2)\n",
            "Requirement already satisfied: SQLAlchemy>=1.4.49 in /usr/local/lib/python3.10/dist-packages (from SQLAlchemy[asyncio]>=1.4.49->llama-index-core<0.11.0,>=0.10.1->llama_index-llms-openai_like) (2.0.32)\n",
            "Requirement already satisfied: aiohttp<4.0.0,>=3.8.6 in /usr/local/lib/python3.10/dist-packages (from llama-index-core<0.11.0,>=0.10.1->llama_index-llms-openai_like) (3.10.3)\n",
            "Requirement already satisfied: dataclasses-json in /usr/local/lib/python3.10/dist-packages (from llama-index-core<0.11.0,>=0.10.1->llama_index-llms-openai_like) (0.6.7)\n",
            "Requirement already satisfied: deprecated>=1.2.9.3 in /usr/local/lib/python3.10/dist-packages (from llama-index-core<0.11.0,>=0.10.1->llama_index-llms-openai_like) (1.2.14)\n",
            "Requirement already satisfied: dirtyjson<2.0.0,>=1.0.8 in /usr/local/lib/python3.10/dist-packages (from llama-index-core<0.11.0,>=0.10.1->llama_index-llms-openai_like) (1.0.8)\n",
            "Requirement already satisfied: fsspec>=2023.5.0 in /usr/local/lib/python3.10/dist-packages (from llama-index-core<0.11.0,>=0.10.1->llama_index-llms-openai_like) (2024.6.1)\n",
            "Requirement already satisfied: httpx in /usr/local/lib/python3.10/dist-packages (from llama-index-core<0.11.0,>=0.10.1->llama_index-llms-openai_like) (0.27.0)\n",
            "Requirement already satisfied: nest-asyncio<2.0.0,>=1.5.8 in /usr/local/lib/python3.10/dist-packages (from llama-index-core<0.11.0,>=0.10.1->llama_index-llms-openai_like) (1.6.0)\n",
            "Requirement already satisfied: networkx>=3.0 in /usr/local/lib/python3.10/dist-packages (from llama-index-core<0.11.0,>=0.10.1->llama_index-llms-openai_like) (3.3)\n",
            "Requirement already satisfied: nltk!=3.9,>=3.8.1 in /usr/local/lib/python3.10/dist-packages (from llama-index-core<0.11.0,>=0.10.1->llama_index-llms-openai_like) (3.8.1)\n",
            "Requirement already satisfied: numpy<2.0.0 in /usr/local/lib/python3.10/dist-packages (from llama-index-core<0.11.0,>=0.10.1->llama_index-llms-openai_like) (1.26.4)\n",
            "Requirement already satisfied: openai>=1.1.0 in /usr/local/lib/python3.10/dist-packages (from llama-index-core<0.11.0,>=0.10.1->llama_index-llms-openai_like) (1.42.0)\n",
            "Requirement already satisfied: pandas in /usr/local/lib/python3.10/dist-packages (from llama-index-core<0.11.0,>=0.10.1->llama_index-llms-openai_like) (2.1.4)\n",
            "Requirement already satisfied: pillow>=9.0.0 in /usr/local/lib/python3.10/dist-packages (from llama-index-core<0.11.0,>=0.10.1->llama_index-llms-openai_like) (9.4.0)\n",
            "Requirement already satisfied: requests>=2.31.0 in /usr/local/lib/python3.10/dist-packages (from llama-index-core<0.11.0,>=0.10.1->llama_index-llms-openai_like) (2.32.3)\n",
            "Requirement already satisfied: tenacity!=8.4.0,<9.0.0,>=8.2.0 in /usr/local/lib/python3.10/dist-packages (from llama-index-core<0.11.0,>=0.10.1->llama_index-llms-openai_like) (8.5.0)\n",
            "Requirement already satisfied: tiktoken>=0.3.3 in /usr/local/lib/python3.10/dist-packages (from llama-index-core<0.11.0,>=0.10.1->llama_index-llms-openai_like) (0.7.0)\n",
            "Requirement already satisfied: tqdm<5.0.0,>=4.66.1 in /usr/local/lib/python3.10/dist-packages (from llama-index-core<0.11.0,>=0.10.1->llama_index-llms-openai_like) (4.66.5)\n",
            "Requirement already satisfied: typing-extensions>=4.5.0 in /usr/local/lib/python3.10/dist-packages (from llama-index-core<0.11.0,>=0.10.1->llama_index-llms-openai_like) (4.12.2)\n",
            "Requirement already satisfied: typing-inspect>=0.8.0 in /usr/local/lib/python3.10/dist-packages (from llama-index-core<0.11.0,>=0.10.1->llama_index-llms-openai_like) (0.9.0)\n",
            "Requirement already satisfied: wrapt in /usr/local/lib/python3.10/dist-packages (from llama-index-core<0.11.0,>=0.10.1->llama_index-llms-openai_like) (1.16.0)\n",
            "Requirement already satisfied: filelock in /usr/local/lib/python3.10/dist-packages (from transformers<5.0.0,>=4.37.0->llama_index-llms-openai_like) (3.15.4)\n",
            "Requirement already satisfied: huggingface-hub<1.0,>=0.23.2 in /usr/local/lib/python3.10/dist-packages (from transformers<5.0.0,>=4.37.0->llama_index-llms-openai_like) (0.23.5)\n",
            "Requirement already satisfied: packaging>=20.0 in /usr/local/lib/python3.10/dist-packages (from transformers<5.0.0,>=4.37.0->llama_index-llms-openai_like) (24.1)\n",
            "Requirement already satisfied: regex!=2019.12.17 in /usr/local/lib/python3.10/dist-packages (from transformers<5.0.0,>=4.37.0->llama_index-llms-openai_like) (2024.5.15)\n",
            "Requirement already satisfied: safetensors>=0.4.1 in /usr/local/lib/python3.10/dist-packages (from transformers<5.0.0,>=4.37.0->llama_index-llms-openai_like) (0.4.4)\n",
            "Requirement already satisfied: tokenizers<0.20,>=0.19 in /usr/local/lib/python3.10/dist-packages (from transformers<5.0.0,>=4.37.0->llama_index-llms-openai_like) (0.19.1)\n",
            "Requirement already satisfied: aiohappyeyeballs>=2.3.0 in /usr/local/lib/python3.10/dist-packages (from aiohttp<4.0.0,>=3.8.6->llama-index-core<0.11.0,>=0.10.1->llama_index-llms-openai_like) (2.3.5)\n",
            "Requirement already satisfied: aiosignal>=1.1.2 in /usr/local/lib/python3.10/dist-packages (from aiohttp<4.0.0,>=3.8.6->llama-index-core<0.11.0,>=0.10.1->llama_index-llms-openai_like) (1.3.1)\n",
            "Requirement already satisfied: attrs>=17.3.0 in /usr/local/lib/python3.10/dist-packages (from aiohttp<4.0.0,>=3.8.6->llama-index-core<0.11.0,>=0.10.1->llama_index-llms-openai_like) (24.2.0)\n",
            "Requirement already satisfied: frozenlist>=1.1.1 in /usr/local/lib/python3.10/dist-packages (from aiohttp<4.0.0,>=3.8.6->llama-index-core<0.11.0,>=0.10.1->llama_index-llms-openai_like) (1.4.1)\n",
            "Requirement already satisfied: multidict<7.0,>=4.5 in /usr/local/lib/python3.10/dist-packages (from aiohttp<4.0.0,>=3.8.6->llama-index-core<0.11.0,>=0.10.1->llama_index-llms-openai_like) (6.0.5)\n",
            "Requirement already satisfied: yarl<2.0,>=1.0 in /usr/local/lib/python3.10/dist-packages (from aiohttp<4.0.0,>=3.8.6->llama-index-core<0.11.0,>=0.10.1->llama_index-llms-openai_like) (1.9.4)\n",
            "Requirement already satisfied: async-timeout<5.0,>=4.0 in /usr/local/lib/python3.10/dist-packages (from aiohttp<4.0.0,>=3.8.6->llama-index-core<0.11.0,>=0.10.1->llama_index-llms-openai_like) (4.0.3)\n",
            "Requirement already satisfied: click in /usr/local/lib/python3.10/dist-packages (from nltk!=3.9,>=3.8.1->llama-index-core<0.11.0,>=0.10.1->llama_index-llms-openai_like) (8.1.7)\n",
            "Requirement already satisfied: joblib in /usr/local/lib/python3.10/dist-packages (from nltk!=3.9,>=3.8.1->llama-index-core<0.11.0,>=0.10.1->llama_index-llms-openai_like) (1.4.2)\n",
            "Requirement already satisfied: anyio<5,>=3.5.0 in /usr/local/lib/python3.10/dist-packages (from openai>=1.1.0->llama-index-core<0.11.0,>=0.10.1->llama_index-llms-openai_like) (3.7.1)\n",
            "Requirement already satisfied: distro<2,>=1.7.0 in /usr/lib/python3/dist-packages (from openai>=1.1.0->llama-index-core<0.11.0,>=0.10.1->llama_index-llms-openai_like) (1.7.0)\n",
            "Requirement already satisfied: jiter<1,>=0.4.0 in /usr/local/lib/python3.10/dist-packages (from openai>=1.1.0->llama-index-core<0.11.0,>=0.10.1->llama_index-llms-openai_like) (0.5.0)\n",
            "Requirement already satisfied: pydantic<3,>=1.9.0 in /usr/local/lib/python3.10/dist-packages (from openai>=1.1.0->llama-index-core<0.11.0,>=0.10.1->llama_index-llms-openai_like) (2.8.2)\n",
            "Requirement already satisfied: sniffio in /usr/local/lib/python3.10/dist-packages (from openai>=1.1.0->llama-index-core<0.11.0,>=0.10.1->llama_index-llms-openai_like) (1.3.1)\n",
            "Requirement already satisfied: certifi in /usr/local/lib/python3.10/dist-packages (from httpx->llama-index-core<0.11.0,>=0.10.1->llama_index-llms-openai_like) (2024.7.4)\n",
            "Requirement already satisfied: httpcore==1.* in /usr/local/lib/python3.10/dist-packages (from httpx->llama-index-core<0.11.0,>=0.10.1->llama_index-llms-openai_like) (1.0.5)\n",
            "Requirement already satisfied: idna in /usr/local/lib/python3.10/dist-packages (from httpx->llama-index-core<0.11.0,>=0.10.1->llama_index-llms-openai_like) (3.7)\n",
            "Requirement already satisfied: h11<0.15,>=0.13 in /usr/local/lib/python3.10/dist-packages (from httpcore==1.*->httpx->llama-index-core<0.11.0,>=0.10.1->llama_index-llms-openai_like) (0.14.0)\n",
            "Requirement already satisfied: charset-normalizer<4,>=2 in /usr/local/lib/python3.10/dist-packages (from requests>=2.31.0->llama-index-core<0.11.0,>=0.10.1->llama_index-llms-openai_like) (3.3.2)\n",
            "Requirement already satisfied: urllib3<3,>=1.21.1 in /usr/local/lib/python3.10/dist-packages (from requests>=2.31.0->llama-index-core<0.11.0,>=0.10.1->llama_index-llms-openai_like) (2.0.7)\n",
            "Requirement already satisfied: greenlet!=0.4.17 in /usr/local/lib/python3.10/dist-packages (from SQLAlchemy>=1.4.49->SQLAlchemy[asyncio]>=1.4.49->llama-index-core<0.11.0,>=0.10.1->llama_index-llms-openai_like) (3.0.3)\n",
            "Requirement already satisfied: mypy-extensions>=0.3.0 in /usr/local/lib/python3.10/dist-packages (from typing-inspect>=0.8.0->llama-index-core<0.11.0,>=0.10.1->llama_index-llms-openai_like) (1.0.0)\n",
            "Requirement already satisfied: marshmallow<4.0.0,>=3.18.0 in /usr/local/lib/python3.10/dist-packages (from dataclasses-json->llama-index-core<0.11.0,>=0.10.1->llama_index-llms-openai_like) (3.22.0)\n",
            "Requirement already satisfied: python-dateutil>=2.8.2 in /usr/local/lib/python3.10/dist-packages (from pandas->llama-index-core<0.11.0,>=0.10.1->llama_index-llms-openai_like) (2.8.2)\n",
            "Requirement already satisfied: pytz>=2020.1 in /usr/local/lib/python3.10/dist-packages (from pandas->llama-index-core<0.11.0,>=0.10.1->llama_index-llms-openai_like) (2024.1)\n",
            "Requirement already satisfied: tzdata>=2022.1 in /usr/local/lib/python3.10/dist-packages (from pandas->llama-index-core<0.11.0,>=0.10.1->llama_index-llms-openai_like) (2024.1)\n",
            "Requirement already satisfied: exceptiongroup in /usr/local/lib/python3.10/dist-packages (from anyio<5,>=3.5.0->openai>=1.1.0->llama-index-core<0.11.0,>=0.10.1->llama_index-llms-openai_like) (1.2.2)\n",
            "Requirement already satisfied: annotated-types>=0.4.0 in /usr/local/lib/python3.10/dist-packages (from pydantic<3,>=1.9.0->openai>=1.1.0->llama-index-core<0.11.0,>=0.10.1->llama_index-llms-openai_like) (0.7.0)\n",
            "Requirement already satisfied: pydantic-core==2.20.1 in /usr/local/lib/python3.10/dist-packages (from pydantic<3,>=1.9.0->openai>=1.1.0->llama-index-core<0.11.0,>=0.10.1->llama_index-llms-openai_like) (2.20.1)\n",
            "Requirement already satisfied: six>=1.5 in /usr/local/lib/python3.10/dist-packages (from python-dateutil>=2.8.2->pandas->llama-index-core<0.11.0,>=0.10.1->llama_index-llms-openai_like) (1.16.0)\n",
            "Downloading llama_index_llms_openai_like-0.1.3-py3-none-any.whl (3.0 kB)\n",
            "Installing collected packages: llama_index-llms-openai_like\n",
            "Successfully installed llama_index-llms-openai_like-0.1.3\n",
            "Collecting llama_index-embeddings-huggingface\n",
            "  Downloading llama_index_embeddings_huggingface-0.2.3-py3-none-any.whl.metadata (769 bytes)\n",
            "Requirement already satisfied: huggingface-hub>=0.19.0 in /usr/local/lib/python3.10/dist-packages (from huggingface-hub[inference]>=0.19.0->llama_index-embeddings-huggingface) (0.23.5)\n",
            "Requirement already satisfied: llama-index-core<0.11.0,>=0.10.1 in /usr/local/lib/python3.10/dist-packages (from llama_index-embeddings-huggingface) (0.10.67)\n",
            "Collecting sentence-transformers>=2.6.1 (from llama_index-embeddings-huggingface)\n",
            "  Downloading sentence_transformers-3.0.1-py3-none-any.whl.metadata (10 kB)\n",
            "Requirement already satisfied: filelock in /usr/local/lib/python3.10/dist-packages (from huggingface-hub>=0.19.0->huggingface-hub[inference]>=0.19.0->llama_index-embeddings-huggingface) (3.15.4)\n",
            "Requirement already satisfied: fsspec>=2023.5.0 in /usr/local/lib/python3.10/dist-packages (from huggingface-hub>=0.19.0->huggingface-hub[inference]>=0.19.0->llama_index-embeddings-huggingface) (2024.6.1)\n",
            "Requirement already satisfied: packaging>=20.9 in /usr/local/lib/python3.10/dist-packages (from huggingface-hub>=0.19.0->huggingface-hub[inference]>=0.19.0->llama_index-embeddings-huggingface) (24.1)\n",
            "Requirement already satisfied: pyyaml>=5.1 in /usr/local/lib/python3.10/dist-packages (from huggingface-hub>=0.19.0->huggingface-hub[inference]>=0.19.0->llama_index-embeddings-huggingface) (6.0.2)\n",
            "Requirement already satisfied: requests in /usr/local/lib/python3.10/dist-packages (from huggingface-hub>=0.19.0->huggingface-hub[inference]>=0.19.0->llama_index-embeddings-huggingface) (2.32.3)\n",
            "Requirement already satisfied: tqdm>=4.42.1 in /usr/local/lib/python3.10/dist-packages (from huggingface-hub>=0.19.0->huggingface-hub[inference]>=0.19.0->llama_index-embeddings-huggingface) (4.66.5)\n",
            "Requirement already satisfied: typing-extensions>=3.7.4.3 in /usr/local/lib/python3.10/dist-packages (from huggingface-hub>=0.19.0->huggingface-hub[inference]>=0.19.0->llama_index-embeddings-huggingface) (4.12.2)\n",
            "Requirement already satisfied: aiohttp in /usr/local/lib/python3.10/dist-packages (from huggingface-hub[inference]>=0.19.0->llama_index-embeddings-huggingface) (3.10.3)\n",
            "Collecting minijinja>=1.0 (from huggingface-hub[inference]>=0.19.0->llama_index-embeddings-huggingface)\n",
            "  Downloading minijinja-2.0.1-cp38-abi3-manylinux_2_17_x86_64.manylinux2014_x86_64.whl.metadata (8.8 kB)\n",
            "Requirement already satisfied: SQLAlchemy>=1.4.49 in /usr/local/lib/python3.10/dist-packages (from SQLAlchemy[asyncio]>=1.4.49->llama-index-core<0.11.0,>=0.10.1->llama_index-embeddings-huggingface) (2.0.32)\n",
            "Requirement already satisfied: dataclasses-json in /usr/local/lib/python3.10/dist-packages (from llama-index-core<0.11.0,>=0.10.1->llama_index-embeddings-huggingface) (0.6.7)\n",
            "Requirement already satisfied: deprecated>=1.2.9.3 in /usr/local/lib/python3.10/dist-packages (from llama-index-core<0.11.0,>=0.10.1->llama_index-embeddings-huggingface) (1.2.14)\n",
            "Requirement already satisfied: dirtyjson<2.0.0,>=1.0.8 in /usr/local/lib/python3.10/dist-packages (from llama-index-core<0.11.0,>=0.10.1->llama_index-embeddings-huggingface) (1.0.8)\n",
            "Requirement already satisfied: httpx in /usr/local/lib/python3.10/dist-packages (from llama-index-core<0.11.0,>=0.10.1->llama_index-embeddings-huggingface) (0.27.0)\n",
            "Requirement already satisfied: nest-asyncio<2.0.0,>=1.5.8 in /usr/local/lib/python3.10/dist-packages (from llama-index-core<0.11.0,>=0.10.1->llama_index-embeddings-huggingface) (1.6.0)\n",
            "Requirement already satisfied: networkx>=3.0 in /usr/local/lib/python3.10/dist-packages (from llama-index-core<0.11.0,>=0.10.1->llama_index-embeddings-huggingface) (3.3)\n",
            "Requirement already satisfied: nltk!=3.9,>=3.8.1 in /usr/local/lib/python3.10/dist-packages (from llama-index-core<0.11.0,>=0.10.1->llama_index-embeddings-huggingface) (3.8.1)\n",
            "Requirement already satisfied: numpy<2.0.0 in /usr/local/lib/python3.10/dist-packages (from llama-index-core<0.11.0,>=0.10.1->llama_index-embeddings-huggingface) (1.26.4)\n",
            "Requirement already satisfied: openai>=1.1.0 in /usr/local/lib/python3.10/dist-packages (from llama-index-core<0.11.0,>=0.10.1->llama_index-embeddings-huggingface) (1.42.0)\n",
            "Requirement already satisfied: pandas in /usr/local/lib/python3.10/dist-packages (from llama-index-core<0.11.0,>=0.10.1->llama_index-embeddings-huggingface) (2.1.4)\n",
            "Requirement already satisfied: pillow>=9.0.0 in /usr/local/lib/python3.10/dist-packages (from llama-index-core<0.11.0,>=0.10.1->llama_index-embeddings-huggingface) (9.4.0)\n",
            "Requirement already satisfied: tenacity!=8.4.0,<9.0.0,>=8.2.0 in /usr/local/lib/python3.10/dist-packages (from llama-index-core<0.11.0,>=0.10.1->llama_index-embeddings-huggingface) (8.5.0)\n",
            "Requirement already satisfied: tiktoken>=0.3.3 in /usr/local/lib/python3.10/dist-packages (from llama-index-core<0.11.0,>=0.10.1->llama_index-embeddings-huggingface) (0.7.0)\n",
            "Requirement already satisfied: typing-inspect>=0.8.0 in /usr/local/lib/python3.10/dist-packages (from llama-index-core<0.11.0,>=0.10.1->llama_index-embeddings-huggingface) (0.9.0)\n",
            "Requirement already satisfied: wrapt in /usr/local/lib/python3.10/dist-packages (from llama-index-core<0.11.0,>=0.10.1->llama_index-embeddings-huggingface) (1.16.0)\n",
            "Requirement already satisfied: transformers<5.0.0,>=4.34.0 in /usr/local/lib/python3.10/dist-packages (from sentence-transformers>=2.6.1->llama_index-embeddings-huggingface) (4.42.4)\n",
            "Requirement already satisfied: torch>=1.11.0 in /usr/local/lib/python3.10/dist-packages (from sentence-transformers>=2.6.1->llama_index-embeddings-huggingface) (2.3.1+cu121)\n",
            "Requirement already satisfied: scikit-learn in /usr/local/lib/python3.10/dist-packages (from sentence-transformers>=2.6.1->llama_index-embeddings-huggingface) (1.3.2)\n",
            "Requirement already satisfied: scipy in /usr/local/lib/python3.10/dist-packages (from sentence-transformers>=2.6.1->llama_index-embeddings-huggingface) (1.13.1)\n",
            "Requirement already satisfied: aiohappyeyeballs>=2.3.0 in /usr/local/lib/python3.10/dist-packages (from aiohttp->huggingface-hub[inference]>=0.19.0->llama_index-embeddings-huggingface) (2.3.5)\n",
            "Requirement already satisfied: aiosignal>=1.1.2 in /usr/local/lib/python3.10/dist-packages (from aiohttp->huggingface-hub[inference]>=0.19.0->llama_index-embeddings-huggingface) (1.3.1)\n",
            "Requirement already satisfied: attrs>=17.3.0 in /usr/local/lib/python3.10/dist-packages (from aiohttp->huggingface-hub[inference]>=0.19.0->llama_index-embeddings-huggingface) (24.2.0)\n",
            "Requirement already satisfied: frozenlist>=1.1.1 in /usr/local/lib/python3.10/dist-packages (from aiohttp->huggingface-hub[inference]>=0.19.0->llama_index-embeddings-huggingface) (1.4.1)\n",
            "Requirement already satisfied: multidict<7.0,>=4.5 in /usr/local/lib/python3.10/dist-packages (from aiohttp->huggingface-hub[inference]>=0.19.0->llama_index-embeddings-huggingface) (6.0.5)\n",
            "Requirement already satisfied: yarl<2.0,>=1.0 in /usr/local/lib/python3.10/dist-packages (from aiohttp->huggingface-hub[inference]>=0.19.0->llama_index-embeddings-huggingface) (1.9.4)\n",
            "Requirement already satisfied: async-timeout<5.0,>=4.0 in /usr/local/lib/python3.10/dist-packages (from aiohttp->huggingface-hub[inference]>=0.19.0->llama_index-embeddings-huggingface) (4.0.3)\n",
            "Requirement already satisfied: click in /usr/local/lib/python3.10/dist-packages (from nltk!=3.9,>=3.8.1->llama-index-core<0.11.0,>=0.10.1->llama_index-embeddings-huggingface) (8.1.7)\n",
            "Requirement already satisfied: joblib in /usr/local/lib/python3.10/dist-packages (from nltk!=3.9,>=3.8.1->llama-index-core<0.11.0,>=0.10.1->llama_index-embeddings-huggingface) (1.4.2)\n",
            "Requirement already satisfied: regex>=2021.8.3 in /usr/local/lib/python3.10/dist-packages (from nltk!=3.9,>=3.8.1->llama-index-core<0.11.0,>=0.10.1->llama_index-embeddings-huggingface) (2024.5.15)\n",
            "Requirement already satisfied: anyio<5,>=3.5.0 in /usr/local/lib/python3.10/dist-packages (from openai>=1.1.0->llama-index-core<0.11.0,>=0.10.1->llama_index-embeddings-huggingface) (3.7.1)\n",
            "Requirement already satisfied: distro<2,>=1.7.0 in /usr/lib/python3/dist-packages (from openai>=1.1.0->llama-index-core<0.11.0,>=0.10.1->llama_index-embeddings-huggingface) (1.7.0)\n",
            "Requirement already satisfied: jiter<1,>=0.4.0 in /usr/local/lib/python3.10/dist-packages (from openai>=1.1.0->llama-index-core<0.11.0,>=0.10.1->llama_index-embeddings-huggingface) (0.5.0)\n",
            "Requirement already satisfied: pydantic<3,>=1.9.0 in /usr/local/lib/python3.10/dist-packages (from openai>=1.1.0->llama-index-core<0.11.0,>=0.10.1->llama_index-embeddings-huggingface) (2.8.2)\n",
            "Requirement already satisfied: sniffio in /usr/local/lib/python3.10/dist-packages (from openai>=1.1.0->llama-index-core<0.11.0,>=0.10.1->llama_index-embeddings-huggingface) (1.3.1)\n",
            "Requirement already satisfied: certifi in /usr/local/lib/python3.10/dist-packages (from httpx->llama-index-core<0.11.0,>=0.10.1->llama_index-embeddings-huggingface) (2024.7.4)\n",
            "Requirement already satisfied: httpcore==1.* in /usr/local/lib/python3.10/dist-packages (from httpx->llama-index-core<0.11.0,>=0.10.1->llama_index-embeddings-huggingface) (1.0.5)\n",
            "Requirement already satisfied: idna in /usr/local/lib/python3.10/dist-packages (from httpx->llama-index-core<0.11.0,>=0.10.1->llama_index-embeddings-huggingface) (3.7)\n",
            "Requirement already satisfied: h11<0.15,>=0.13 in /usr/local/lib/python3.10/dist-packages (from httpcore==1.*->httpx->llama-index-core<0.11.0,>=0.10.1->llama_index-embeddings-huggingface) (0.14.0)\n",
            "Requirement already satisfied: charset-normalizer<4,>=2 in /usr/local/lib/python3.10/dist-packages (from requests->huggingface-hub>=0.19.0->huggingface-hub[inference]>=0.19.0->llama_index-embeddings-huggingface) (3.3.2)\n",
            "Requirement already satisfied: urllib3<3,>=1.21.1 in /usr/local/lib/python3.10/dist-packages (from requests->huggingface-hub>=0.19.0->huggingface-hub[inference]>=0.19.0->llama_index-embeddings-huggingface) (2.0.7)\n",
            "Requirement already satisfied: greenlet!=0.4.17 in /usr/local/lib/python3.10/dist-packages (from SQLAlchemy>=1.4.49->SQLAlchemy[asyncio]>=1.4.49->llama-index-core<0.11.0,>=0.10.1->llama_index-embeddings-huggingface) (3.0.3)\n",
            "Requirement already satisfied: sympy in /usr/local/lib/python3.10/dist-packages (from torch>=1.11.0->sentence-transformers>=2.6.1->llama_index-embeddings-huggingface) (1.13.2)\n",
            "Requirement already satisfied: jinja2 in /usr/local/lib/python3.10/dist-packages (from torch>=1.11.0->sentence-transformers>=2.6.1->llama_index-embeddings-huggingface) (3.1.4)\n",
            "Collecting nvidia-cuda-nvrtc-cu12==12.1.105 (from torch>=1.11.0->sentence-transformers>=2.6.1->llama_index-embeddings-huggingface)\n",
            "  Using cached nvidia_cuda_nvrtc_cu12-12.1.105-py3-none-manylinux1_x86_64.whl.metadata (1.5 kB)\n",
            "Collecting nvidia-cuda-runtime-cu12==12.1.105 (from torch>=1.11.0->sentence-transformers>=2.6.1->llama_index-embeddings-huggingface)\n",
            "  Using cached nvidia_cuda_runtime_cu12-12.1.105-py3-none-manylinux1_x86_64.whl.metadata (1.5 kB)\n",
            "Collecting nvidia-cuda-cupti-cu12==12.1.105 (from torch>=1.11.0->sentence-transformers>=2.6.1->llama_index-embeddings-huggingface)\n",
            "  Using cached nvidia_cuda_cupti_cu12-12.1.105-py3-none-manylinux1_x86_64.whl.metadata (1.6 kB)\n",
            "Collecting nvidia-cudnn-cu12==8.9.2.26 (from torch>=1.11.0->sentence-transformers>=2.6.1->llama_index-embeddings-huggingface)\n",
            "  Using cached nvidia_cudnn_cu12-8.9.2.26-py3-none-manylinux1_x86_64.whl.metadata (1.6 kB)\n",
            "Collecting nvidia-cublas-cu12==12.1.3.1 (from torch>=1.11.0->sentence-transformers>=2.6.1->llama_index-embeddings-huggingface)\n",
            "  Using cached nvidia_cublas_cu12-12.1.3.1-py3-none-manylinux1_x86_64.whl.metadata (1.5 kB)\n",
            "Collecting nvidia-cufft-cu12==11.0.2.54 (from torch>=1.11.0->sentence-transformers>=2.6.1->llama_index-embeddings-huggingface)\n",
            "  Using cached nvidia_cufft_cu12-11.0.2.54-py3-none-manylinux1_x86_64.whl.metadata (1.5 kB)\n",
            "Collecting nvidia-curand-cu12==10.3.2.106 (from torch>=1.11.0->sentence-transformers>=2.6.1->llama_index-embeddings-huggingface)\n",
            "  Using cached nvidia_curand_cu12-10.3.2.106-py3-none-manylinux1_x86_64.whl.metadata (1.5 kB)\n",
            "Collecting nvidia-cusolver-cu12==11.4.5.107 (from torch>=1.11.0->sentence-transformers>=2.6.1->llama_index-embeddings-huggingface)\n",
            "  Using cached nvidia_cusolver_cu12-11.4.5.107-py3-none-manylinux1_x86_64.whl.metadata (1.6 kB)\n",
            "Collecting nvidia-cusparse-cu12==12.1.0.106 (from torch>=1.11.0->sentence-transformers>=2.6.1->llama_index-embeddings-huggingface)\n",
            "  Using cached nvidia_cusparse_cu12-12.1.0.106-py3-none-manylinux1_x86_64.whl.metadata (1.6 kB)\n",
            "Collecting nvidia-nccl-cu12==2.20.5 (from torch>=1.11.0->sentence-transformers>=2.6.1->llama_index-embeddings-huggingface)\n",
            "  Using cached nvidia_nccl_cu12-2.20.5-py3-none-manylinux2014_x86_64.whl.metadata (1.8 kB)\n",
            "Collecting nvidia-nvtx-cu12==12.1.105 (from torch>=1.11.0->sentence-transformers>=2.6.1->llama_index-embeddings-huggingface)\n",
            "  Using cached nvidia_nvtx_cu12-12.1.105-py3-none-manylinux1_x86_64.whl.metadata (1.7 kB)\n",
            "Requirement already satisfied: triton==2.3.1 in /usr/local/lib/python3.10/dist-packages (from torch>=1.11.0->sentence-transformers>=2.6.1->llama_index-embeddings-huggingface) (2.3.1)\n",
            "Collecting nvidia-nvjitlink-cu12 (from nvidia-cusolver-cu12==11.4.5.107->torch>=1.11.0->sentence-transformers>=2.6.1->llama_index-embeddings-huggingface)\n",
            "  Using cached nvidia_nvjitlink_cu12-12.6.20-py3-none-manylinux2014_x86_64.whl.metadata (1.5 kB)\n",
            "Requirement already satisfied: safetensors>=0.4.1 in /usr/local/lib/python3.10/dist-packages (from transformers<5.0.0,>=4.34.0->sentence-transformers>=2.6.1->llama_index-embeddings-huggingface) (0.4.4)\n",
            "Requirement already satisfied: tokenizers<0.20,>=0.19 in /usr/local/lib/python3.10/dist-packages (from transformers<5.0.0,>=4.34.0->sentence-transformers>=2.6.1->llama_index-embeddings-huggingface) (0.19.1)\n",
            "Requirement already satisfied: mypy-extensions>=0.3.0 in /usr/local/lib/python3.10/dist-packages (from typing-inspect>=0.8.0->llama-index-core<0.11.0,>=0.10.1->llama_index-embeddings-huggingface) (1.0.0)\n",
            "Requirement already satisfied: marshmallow<4.0.0,>=3.18.0 in /usr/local/lib/python3.10/dist-packages (from dataclasses-json->llama-index-core<0.11.0,>=0.10.1->llama_index-embeddings-huggingface) (3.22.0)\n",
            "Requirement already satisfied: python-dateutil>=2.8.2 in /usr/local/lib/python3.10/dist-packages (from pandas->llama-index-core<0.11.0,>=0.10.1->llama_index-embeddings-huggingface) (2.8.2)\n",
            "Requirement already satisfied: pytz>=2020.1 in /usr/local/lib/python3.10/dist-packages (from pandas->llama-index-core<0.11.0,>=0.10.1->llama_index-embeddings-huggingface) (2024.1)\n",
            "Requirement already satisfied: tzdata>=2022.1 in /usr/local/lib/python3.10/dist-packages (from pandas->llama-index-core<0.11.0,>=0.10.1->llama_index-embeddings-huggingface) (2024.1)\n",
            "Requirement already satisfied: threadpoolctl>=2.0.0 in /usr/local/lib/python3.10/dist-packages (from scikit-learn->sentence-transformers>=2.6.1->llama_index-embeddings-huggingface) (3.5.0)\n",
            "Requirement already satisfied: exceptiongroup in /usr/local/lib/python3.10/dist-packages (from anyio<5,>=3.5.0->openai>=1.1.0->llama-index-core<0.11.0,>=0.10.1->llama_index-embeddings-huggingface) (1.2.2)\n",
            "Requirement already satisfied: annotated-types>=0.4.0 in /usr/local/lib/python3.10/dist-packages (from pydantic<3,>=1.9.0->openai>=1.1.0->llama-index-core<0.11.0,>=0.10.1->llama_index-embeddings-huggingface) (0.7.0)\n",
            "Requirement already satisfied: pydantic-core==2.20.1 in /usr/local/lib/python3.10/dist-packages (from pydantic<3,>=1.9.0->openai>=1.1.0->llama-index-core<0.11.0,>=0.10.1->llama_index-embeddings-huggingface) (2.20.1)\n",
            "Requirement already satisfied: six>=1.5 in /usr/local/lib/python3.10/dist-packages (from python-dateutil>=2.8.2->pandas->llama-index-core<0.11.0,>=0.10.1->llama_index-embeddings-huggingface) (1.16.0)\n",
            "Requirement already satisfied: MarkupSafe>=2.0 in /usr/local/lib/python3.10/dist-packages (from jinja2->torch>=1.11.0->sentence-transformers>=2.6.1->llama_index-embeddings-huggingface) (2.1.5)\n",
            "Requirement already satisfied: mpmath<1.4,>=1.1.0 in /usr/local/lib/python3.10/dist-packages (from sympy->torch>=1.11.0->sentence-transformers>=2.6.1->llama_index-embeddings-huggingface) (1.3.0)\n",
            "Downloading llama_index_embeddings_huggingface-0.2.3-py3-none-any.whl (8.6 kB)\n",
            "Downloading sentence_transformers-3.0.1-py3-none-any.whl (227 kB)\n",
            "\u001b[2K   \u001b[90m━━━━━━━━━━━━━━━━━━━━━━━━━━━━━━━━━━━━━━━━\u001b[0m \u001b[32m227.1/227.1 kB\u001b[0m \u001b[31m5.6 MB/s\u001b[0m eta \u001b[36m0:00:00\u001b[0m\n",
            "\u001b[?25hDownloading minijinja-2.0.1-cp38-abi3-manylinux_2_17_x86_64.manylinux2014_x86_64.whl (853 kB)\n",
            "\u001b[2K   \u001b[90m━━━━━━━━━━━━━━━━━━━━━━━━━━━━━━━━━━━━━━━━\u001b[0m \u001b[32m853.2/853.2 kB\u001b[0m \u001b[31m23.3 MB/s\u001b[0m eta \u001b[36m0:00:00\u001b[0m\n",
            "\u001b[?25hUsing cached nvidia_cublas_cu12-12.1.3.1-py3-none-manylinux1_x86_64.whl (410.6 MB)\n",
            "Using cached nvidia_cuda_cupti_cu12-12.1.105-py3-none-manylinux1_x86_64.whl (14.1 MB)\n",
            "Using cached nvidia_cuda_nvrtc_cu12-12.1.105-py3-none-manylinux1_x86_64.whl (23.7 MB)\n",
            "Using cached nvidia_cuda_runtime_cu12-12.1.105-py3-none-manylinux1_x86_64.whl (823 kB)\n",
            "Using cached nvidia_cudnn_cu12-8.9.2.26-py3-none-manylinux1_x86_64.whl (731.7 MB)\n",
            "Using cached nvidia_cufft_cu12-11.0.2.54-py3-none-manylinux1_x86_64.whl (121.6 MB)\n",
            "Using cached nvidia_curand_cu12-10.3.2.106-py3-none-manylinux1_x86_64.whl (56.5 MB)\n",
            "Using cached nvidia_cusolver_cu12-11.4.5.107-py3-none-manylinux1_x86_64.whl (124.2 MB)\n",
            "Using cached nvidia_cusparse_cu12-12.1.0.106-py3-none-manylinux1_x86_64.whl (196.0 MB)\n",
            "Using cached nvidia_nccl_cu12-2.20.5-py3-none-manylinux2014_x86_64.whl (176.2 MB)\n",
            "Using cached nvidia_nvtx_cu12-12.1.105-py3-none-manylinux1_x86_64.whl (99 kB)\n",
            "Using cached nvidia_nvjitlink_cu12-12.6.20-py3-none-manylinux2014_x86_64.whl (19.7 MB)\n",
            "Installing collected packages: nvidia-nvtx-cu12, nvidia-nvjitlink-cu12, nvidia-nccl-cu12, nvidia-curand-cu12, nvidia-cufft-cu12, nvidia-cuda-runtime-cu12, nvidia-cuda-nvrtc-cu12, nvidia-cuda-cupti-cu12, nvidia-cublas-cu12, minijinja, nvidia-cusparse-cu12, nvidia-cudnn-cu12, nvidia-cusolver-cu12, sentence-transformers, llama_index-embeddings-huggingface\n",
            "Successfully installed llama_index-embeddings-huggingface-0.2.3 minijinja-2.0.1 nvidia-cublas-cu12-12.1.3.1 nvidia-cuda-cupti-cu12-12.1.105 nvidia-cuda-nvrtc-cu12-12.1.105 nvidia-cuda-runtime-cu12-12.1.105 nvidia-cudnn-cu12-8.9.2.26 nvidia-cufft-cu12-11.0.2.54 nvidia-curand-cu12-10.3.2.106 nvidia-cusolver-cu12-11.4.5.107 nvidia-cusparse-cu12-12.1.0.106 nvidia-nccl-cu12-2.20.5 nvidia-nvjitlink-cu12-12.6.20 nvidia-nvtx-cu12-12.1.105 sentence-transformers-3.0.1\n"
          ]
        }
      ]
    },
    {
      "cell_type": "code",
      "source": [
        "import os\n",
        "import logging\n",
        "import sys\n",
        "from llama_index.llms.openai_like import OpenAILike\n",
        "from llama_index.core import Settings, ServiceContext\n",
        "from llama_index.embeddings.huggingface import HuggingFaceEmbedding\n",
        "\n",
        "# 配置日志\n",
        "logging.basicConfig(stream=sys.stdout, level=logging.INFO)\n",
        "\n",
        "# 定义DeepSpeed model\n",
        "llm = OpenAILike(model=\"deepseek-chat\",\n",
        "                 api_base=\"https://api.deepseek.com/v1\",\n",
        "                 api_key=os.environ[\"DEEPSEEK_API_KEY\"],\n",
        "                 temperature=0.6,\n",
        "                 is_chat_model=True)\n",
        "\n",
        "# 配置环境\n",
        "Settings.llm = llm\n",
        "\n",
        "# 设置嵌入模型\n",
        "embed_model = HuggingFaceEmbedding(model_name=\"BAAI/bge-small-zh-v1.5\")\n",
        "Settings.embed_model = embed_model\n",
        "Settings.chunk_size = 256\n",
        "service_context = ServiceContext.from_defaults(\n",
        "    llm=llm, embed_model=embed_model\n",
        ")"
      ],
      "metadata": {
        "colab": {
          "base_uri": "https://localhost:8080/"
        },
        "collapsed": true,
        "id": "8Ydie2FZs5BY",
        "outputId": "5d5196be-4773-46bc-c2ce-1a45100167b2"
      },
      "execution_count": 7,
      "outputs": [
        {
          "output_type": "stream",
          "name": "stderr",
          "text": [
            "/usr/local/lib/python3.10/dist-packages/huggingface_hub/utils/_token.py:89: UserWarning: \n",
            "The secret `HF_TOKEN` does not exist in your Colab secrets.\n",
            "To authenticate with the Hugging Face Hub, create a token in your settings tab (https://huggingface.co/settings/tokens), set it as secret in your Google Colab and restart your session.\n",
            "You will be able to reuse this secret in all of your notebooks.\n",
            "Please note that authentication is recommended but still optional to access public models or datasets.\n",
            "  warnings.warn(\n",
            "<ipython-input-7-f86546c39a13>:25: DeprecationWarning: Call to deprecated class method from_defaults. (ServiceContext is deprecated, please use `llama_index.settings.Settings` instead.) -- Deprecated since version 0.10.0.\n",
            "  service_context = ServiceContext.from_defaults(\n"
          ]
        }
      ]
    },
    {
      "cell_type": "markdown",
      "metadata": {
        "id": "AlMcFndQNpdq"
      },
      "source": [
        "Since workflows are async first, this all runs fine in a notebook. If you were running in your own code, you would want to use `asyncio.run()` to start an async event loop if one isn't already running.\n",
        "\n",
        "```python\n",
        "async def main():\n",
        "    <async code>\n",
        "\n",
        "if __name__ == \"__main__\":\n",
        "    import asyncio\n",
        "    asyncio.run(main())\n",
        "```"
      ]
    },
    {
      "cell_type": "markdown",
      "metadata": {
        "id": "bFmIcvd5Npdq"
      },
      "source": [
        "## Designing the Workflow\n",
        "\n",
        "An agent consists of several steps\n",
        "1. Handling the latest incoming user message, including adding to memory and preparing the chat history\n",
        "2. Using the chat history and tools to construct a ReAct prompt\n",
        "3. Calling the llm with the react prompt, and parsing out function/tool calls\n",
        "4. If no tool calls, we can return\n",
        "5. If there are tool calls, we need to execute them, and then loop back for a fresh ReAct prompt using the latest tool calls\n",
        "\n",
        "### The Workflow Events\n",
        "\n",
        "To handle these steps, we need to define a few events:\n",
        "1. An event to handle new messages and prepare the chat history\n",
        "2. An event to prompt the LLM with the react prompt\n",
        "3. An event to trigger tool calls, if any\n",
        "4. An event to handle the results of tool calls, if any\n",
        "\n",
        "The other steps will use the built-in `StartEvent` and `StopEvent` events.\n",
        "\n",
        "In addition to events, we will also use the global context to store the current react reasoning!"
      ]
    },
    {
      "cell_type": "code",
      "source": [
        "from llama_index.core.workflow import Event\n",
        "\n",
        "class StartConversationEvent(Event):\n",
        "    message: str\n",
        "\n",
        "class ServiceTypeEvent(Event):\n",
        "    service_type: str\n",
        "\n",
        "class InsuranceVerificationEvent(Event):\n",
        "    insurance_number: str\n",
        "\n",
        "class HospitalCheckEvent(Event):\n",
        "    hospital_name: str\n",
        "\n",
        "class DepositConfirmationEvent(Event):\n",
        "    deposit_amount: float\n",
        "\n",
        "class SystemAuditEvent(Event):\n",
        "    is_approved: bool\n",
        "\n",
        "class EndConversationEvent(Event):\n",
        "    final_message: str"
      ],
      "metadata": {
        "id": "Njm0Hwf7WTj2"
      },
      "execution_count": 8,
      "outputs": []
    },
    {
      "cell_type": "markdown",
      "source": [
        "代码解释\n",
        "run_insurance_workflow: 这个函数模拟了整个工作流的运行过程，从用户开始对话到系统返回最终审核结果。\n",
        "\n",
        "StartEvent: 模拟用户的初始输入，例如 \"我需要申请医疗垫付服务\"。\n",
        "\n",
        "new_user_msg: 处理用户输入并准备后续的步骤。\n",
        "\n",
        "handle_service_type: 判断业务类型是否为医疗垫付，如果是，则继续进行下一步验证。\n",
        "\n",
        "verify_insurance: 系统要求用户提供保单号，并进行验证。\n",
        "\n",
        "handle_insurance_number: 用户输入保单号后，系统检查保单号的有效性，并要求用户输入医院名称。\n",
        "\n",
        "handle_hospital_check: 系统检查医院是否符合条件。\n",
        "\n",
        "confirm_deposit: 系统要求用户提供押金金额，并确认押金是否符合垫付条件。\n",
        "\n",
        "audit_request: 系统对整个请求进行最终审核，并给出结果。"
      ],
      "metadata": {
        "id": "Jhjd5YtsnPce"
      }
    },
    {
      "cell_type": "markdown",
      "metadata": {
        "id": "RqSvFX4QNpdr"
      },
      "source": [
        "### The Workflow Itself\n",
        "\n",
        "With our events defined, we can construct our workflow and steps.\n",
        "\n",
        "Note that the workflow automatically validates itself using type annotations, so the type annotations on our steps are very helpful!"
      ]
    },
    {
      "cell_type": "code",
      "source": [
        "os.environ[\"INSURANCE_NUMBER\"] = \"123456789\""
      ],
      "metadata": {
        "id": "mkAuX1jBk46l"
      },
      "execution_count": 26,
      "outputs": []
    },
    {
      "cell_type": "code",
      "source": [
        "from typing import Any, List\n",
        "from llama_index.core.agent.react import ReActChatFormatter, ReActOutputParser\n",
        "from llama_index.core.llms import ChatMessage\n",
        "from llama_index.core.agent.react.types import (\n",
        "    ActionReasoningStep,\n",
        "    ObservationReasoningStep,\n",
        ")\n",
        "from llama_index.core.llms.llm import LLM\n",
        "from llama_index.core.memory import ChatMemoryBuffer\n",
        "from llama_index.core.tools.types import BaseTool\n",
        "from llama_index.core.workflow import (\n",
        "    Context,\n",
        "    Workflow,\n",
        "    StartEvent,\n",
        "    StopEvent,\n",
        "    step,\n",
        ")\n",
        "\n",
        "class InsuranceReActAgent(Workflow):\n",
        "    def __init__(\n",
        "        self,\n",
        "        *args: Any,\n",
        "        llm: LLM | None = None,\n",
        "        tools: list[BaseTool] | None = None,\n",
        "        extra_context: str | None = None,\n",
        "        **kwargs: Any,\n",
        "    ) -> None:\n",
        "        super().__init__(*args, **kwargs)\n",
        "        self.tools = tools or []\n",
        "        self.llm = Settings.llm\n",
        "        self.memory = ChatMemoryBuffer.from_defaults(llm=llm)\n",
        "        self.formatter = ReActChatFormatter(context=extra_context or \"\")\n",
        "        self.output_parser = ReActOutputParser()\n",
        "        self.sources = []\n",
        "\n",
        "    @step(pass_context=True)\n",
        "    async def new_user_msg(self, ctx: Context, ev: StartEvent) -> StartConversationEvent:\n",
        "        # 清理 sources\n",
        "        self.sources = []\n",
        "\n",
        "        # 获取用户输入\n",
        "        user_input = ev.input\n",
        "        user_msg = ChatMessage(role=\"user\", content=user_input)\n",
        "        self.memory.put(user_msg)\n",
        "\n",
        "        # 清理当前推理过程\n",
        "        ctx.data[\"current_reasoning\"] = []\n",
        "\n",
        "        # Provide the required 'message' field\n",
        "        return StartConversationEvent(message=user_input) # Pass the user input as the message\n",
        "\n",
        "    @step(pass_context=True)\n",
        "    async def handle_service_type(self, ctx: Context, ev: StartConversationEvent) -> ServiceTypeEvent | StopEvent:\n",
        "        # 处理用户输入，判断业务类型\n",
        "        user_input = self.memory.get()[-1].content\n",
        "        print(f\"用户输入: {user_input}\")\n",
        "\n",
        "        if \"医疗垫付\" in user_input:\n",
        "            return ServiceTypeEvent(service_type=\"医疗垫付\")\n",
        "        else:\n",
        "            return StopEvent(result=\"目前只能处理医疗垫付服务的请求。\")\n",
        "\n",
        "    @step(pass_context=True)\n",
        "    async def verify_insurance(self, ctx: Context, ev: ServiceTypeEvent) -> InsuranceVerificationEvent | StopEvent:\n",
        "        if ev.service_type == \"医疗垫付\":\n",
        "            # 1. 输出提示用户输入保单号\n",
        "            print(\"请输入您的保单号：\")\n",
        "\n",
        "            # 2. 提供输入框，等待客户输入\n",
        "            customer_input = input()\n",
        "\n",
        "            # 3. 将客户输入转化为保单号\n",
        "            # (这里你可以添加一些校验逻辑，确保输入符合保单号格式)\n",
        "            insurance_number = customer_input.strip()\n",
        "\n",
        "            # 4. 对保单进行处理\n",
        "            if insurance_number:\n",
        "                # ... 这里你可以添加处理保单号的逻辑 ...\n",
        "                return InsuranceVerificationEvent(insurance_number=insurance_number)\n",
        "            else:\n",
        "                return StopEvent(result=\"未输入保单号。\")\n",
        "        else:\n",
        "            return StopEvent(result=\"业务类型不支持。\")\n",
        "\n",
        "    @step(pass_context=True)\n",
        "    async def handle_insurance_number(self, ctx: Context, ev: InsuranceVerificationEvent) -> HospitalCheckEvent | StopEvent:\n",
        "        # 假设用户输入了保单号，这里是一个模拟的步骤\n",
        "        insurance_number = ev.insurance_number or self.memory.get()[-1].content\n",
        "        if insurance_number.isdigit():\n",
        "            return HospitalCheckEvent(hospital_name=\"北大医院\")\n",
        "        else:\n",
        "            return StopEvent(result=\"无效的保单号，请重新输入。\")\n",
        "\n",
        "    @step(pass_context=True)\n",
        "    async def handle_insurance_number(self, ctx: Context, ev: InsuranceVerificationEvent) -> HospitalCheckEvent | StopEvent:\n",
        "        # 1. 给用户提示\n",
        "        print(\"根据您的保单，您可以申请医疗垫付服务。请问您已经住院了吗？如果是，请提供住院医院的名称。\")\n",
        "\n",
        "        # 2. 让用户输入住院的医院名称\n",
        "        hospital_name = input()\n",
        "\n",
        "        # 3. 得到医院名称\n",
        "        if hospital_name:\n",
        "            return HospitalCheckEvent(hospital_name=hospital_name)\n",
        "        else:\n",
        "            return StopEvent(result=\"未提供住院医院名称。\")\n",
        "\n",
        "    @step(pass_context=True)\n",
        "    async def handle_hospital_check(self, ctx: Context, ev: HospitalCheckEvent) -> DepositConfirmationEvent | StopEvent:\n",
        "        # 获取医院名称\n",
        "        hospital_name = ev.hospital_name or self.memory.get()[-1].content\n",
        "\n",
        "        # 1. 给用户提示\n",
        "        print(f\"感谢提供信息。{hospital_name}符合医疗垫付服务的医院要求。请问您已经支付了住院押金吗？如果是，请提供押金金额。\")\n",
        "\n",
        "        # 2. 让用户进行输入\n",
        "        deposit_amount = input()\n",
        "\n",
        "        # 3. 得到用户住院押金金额\n",
        "        if deposit_amount:\n",
        "            try:\n",
        "                # 尝试将输入转换为数字\n",
        "                deposit_amount = float(deposit_amount)\n",
        "                return DepositConfirmationEvent(deposit_amount=deposit_amount)\n",
        "            except ValueError:\n",
        "                return StopEvent(result=\"请输入有效的押金金额。\")\n",
        "        else:\n",
        "            return StopEvent(result=\"未提供住院押金金额。\")\n",
        "\n",
        "    @step(pass_context=True)\n",
        "    async def confirm_deposit(self, ctx: Context, ev: DepositConfirmationEvent) -> SystemAuditEvent | StopEvent:\n",
        "        # 假设用户输入了押金金额，这里是一个模拟的步骤\n",
        "        deposit_amount = ev.deposit_amount or float(self.memory.get()[-1].content)\n",
        "        if deposit_amount >= 10000:\n",
        "            return SystemAuditEvent(is_approved=True)\n",
        "        else:\n",
        "            return StopEvent(result=\"押金金额不足，无法申请垫付服务。\")\n",
        "\n",
        "    @step(pass_context=True)\n",
        "    async def audit_request(self, ctx: Context, ev: SystemAuditEvent) -> StopEvent:\n",
        "        # 最终审核并给出结果\n",
        "        print(\"好的，您的住院押金符合垫付申请条件。我需要查询系统进一步确认信息。\")\n",
        "        if ev.is_approved:\n",
        "            final_message = \"您的申请已通过初步审核，我们将在1-2个工作日内完成最终审核并通知您垫付金额和后续步骤。\"\n",
        "        else:\n",
        "            final_message = \"您的申请未通过审核。\"\n",
        "        return StopEvent(result=final_message)\n"
      ],
      "metadata": {
        "id": "w7mzmSO-XJzY"
      },
      "execution_count": 27,
      "outputs": []
    },
    {
      "cell_type": "markdown",
      "metadata": {
        "id": "wawJr9CQNpds"
      },
      "source": [
        "And thats it! Let's explore the workflow we wrote a bit.\n",
        "\n",
        "代码解释\n",
        "\n",
        "new_user_msg: 处理用户的初始消息并清理之前的推理数据。\n",
        "\n",
        "handle_service_type: 根据用户的输入判断业务类型，如果匹配“医疗垫付”，则继续流程。\n",
        "\n",
        "verify_insurance: 要求用户输入保单号，并检查其有效性。\n",
        "\n",
        "handle_insurance_number: 验证保单号是否有效，并准备检查医院信息。\n",
        "\n",
        "handle_hospital_check: 检查用户输入的医院是否在服务范围内。\n",
        "\n",
        "confirm_deposit: 确认用户的押金金额是否符合条件。\n",
        "\n",
        "audit_request: 对申请进行最终审核，并向用户反馈审核结果。"
      ]
    },
    {
      "cell_type": "markdown",
      "metadata": {
        "id": "1KAkbIdeNpds"
      },
      "source": [
        "## Run the Workflow!\n",
        "\n",
        "**NOTE:** With loops, we need to be mindful of runtime. Here, we set a timeout of 120s."
      ]
    },
    {
      "cell_type": "code",
      "source": [
        "# 创建 ReActAgent 实例\n",
        "agent = InsuranceReActAgent(timeout=180, verbose=True)\n",
        "\n",
        "ret = await agent.run(input=\"我需要申请医疗垫付服务\")"
      ],
      "metadata": {
        "colab": {
          "base_uri": "https://localhost:8080/"
        },
        "id": "j-ZgowvrbMvT",
        "outputId": "c5f73e09-7c76-4eea-e58d-79e9433820a6"
      },
      "execution_count": 28,
      "outputs": [
        {
          "output_type": "stream",
          "name": "stdout",
          "text": [
            "Running step new_user_msg\n",
            "Step new_user_msg produced event StartConversationEvent\n",
            "Running step handle_service_type\n",
            "用户输入: 我需要申请医疗垫付服务\n",
            "Step handle_service_type produced event ServiceTypeEvent\n",
            "Running step verify_insurance\n",
            "请输入您的保单号：\n",
            "1234567\n",
            "Step verify_insurance produced event InsuranceVerificationEvent\n",
            "Running step handle_insurance_number\n",
            "根据您的保单，您可以申请医疗垫付服务。请问您已经住院了吗？如果是，请提供住院医院的名称。\n",
            " 北大医院\n",
            "Step handle_insurance_number produced event HospitalCheckEvent\n",
            "Running step handle_hospital_check\n",
            "感谢提供信息。 北大医院符合医疗垫付服务的医院要求。请问您已经支付了住院押金吗？如果是，请提供押金金额。\n",
            "20000\n",
            "Step handle_hospital_check produced event DepositConfirmationEvent\n",
            "Running step confirm_deposit\n",
            "Step confirm_deposit produced event SystemAuditEvent\n",
            "Running step audit_request\n",
            "好的，您的住院押金符合垫付申请条件。我需要查询系统进一步确认信息。\n",
            "Step audit_request produced event StopEvent\n"
          ]
        }
      ]
    },
    {
      "cell_type": "code",
      "source": [
        "print(str(ret))"
      ],
      "metadata": {
        "colab": {
          "base_uri": "https://localhost:8080/"
        },
        "id": "-MwnoEkHl6dK",
        "outputId": "aefb0eda-9db3-4a52-c617-519adcb38e87"
      },
      "execution_count": 29,
      "outputs": [
        {
          "output_type": "stream",
          "name": "stdout",
          "text": [
            "您的申请已通过初步审核，我们将在1-2个工作日内完成最终审核并通知您垫付金额和后续步骤。\n"
          ]
        }
      ]
    },
    {
      "cell_type": "markdown",
      "source": [
        "# Show workflow"
      ],
      "metadata": {
        "id": "WYqdNMT-4Lg_"
      }
    },
    {
      "cell_type": "code",
      "source": [
        "!pip install pyvis"
      ],
      "metadata": {
        "collapsed": true,
        "colab": {
          "base_uri": "https://localhost:8080/"
        },
        "id": "6N6uPQV_4Qxg",
        "outputId": "f28cad50-9d51-46ff-89a7-948c7c87d4e2"
      },
      "execution_count": 31,
      "outputs": [
        {
          "output_type": "stream",
          "name": "stdout",
          "text": [
            "Collecting pyvis\n",
            "  Downloading pyvis-0.3.2-py3-none-any.whl.metadata (1.7 kB)\n",
            "Requirement already satisfied: ipython>=5.3.0 in /usr/local/lib/python3.10/dist-packages (from pyvis) (7.34.0)\n",
            "Requirement already satisfied: jinja2>=2.9.6 in /usr/local/lib/python3.10/dist-packages (from pyvis) (3.1.4)\n",
            "Requirement already satisfied: jsonpickle>=1.4.1 in /usr/local/lib/python3.10/dist-packages (from pyvis) (3.2.2)\n",
            "Requirement already satisfied: networkx>=1.11 in /usr/local/lib/python3.10/dist-packages (from pyvis) (3.3)\n",
            "Requirement already satisfied: setuptools>=18.5 in /usr/local/lib/python3.10/dist-packages (from ipython>=5.3.0->pyvis) (71.0.4)\n",
            "Collecting jedi>=0.16 (from ipython>=5.3.0->pyvis)\n",
            "  Using cached jedi-0.19.1-py2.py3-none-any.whl.metadata (22 kB)\n",
            "Requirement already satisfied: decorator in /usr/local/lib/python3.10/dist-packages (from ipython>=5.3.0->pyvis) (4.4.2)\n",
            "Requirement already satisfied: pickleshare in /usr/local/lib/python3.10/dist-packages (from ipython>=5.3.0->pyvis) (0.7.5)\n",
            "Requirement already satisfied: traitlets>=4.2 in /usr/local/lib/python3.10/dist-packages (from ipython>=5.3.0->pyvis) (5.7.1)\n",
            "Requirement already satisfied: prompt-toolkit!=3.0.0,!=3.0.1,<3.1.0,>=2.0.0 in /usr/local/lib/python3.10/dist-packages (from ipython>=5.3.0->pyvis) (3.0.47)\n",
            "Requirement already satisfied: pygments in /usr/local/lib/python3.10/dist-packages (from ipython>=5.3.0->pyvis) (2.16.1)\n",
            "Requirement already satisfied: backcall in /usr/local/lib/python3.10/dist-packages (from ipython>=5.3.0->pyvis) (0.2.0)\n",
            "Requirement already satisfied: matplotlib-inline in /usr/local/lib/python3.10/dist-packages (from ipython>=5.3.0->pyvis) (0.1.7)\n",
            "Requirement already satisfied: pexpect>4.3 in /usr/local/lib/python3.10/dist-packages (from ipython>=5.3.0->pyvis) (4.9.0)\n",
            "Requirement already satisfied: MarkupSafe>=2.0 in /usr/local/lib/python3.10/dist-packages (from jinja2>=2.9.6->pyvis) (2.1.5)\n",
            "Requirement already satisfied: parso<0.9.0,>=0.8.3 in /usr/local/lib/python3.10/dist-packages (from jedi>=0.16->ipython>=5.3.0->pyvis) (0.8.4)\n",
            "Requirement already satisfied: ptyprocess>=0.5 in /usr/local/lib/python3.10/dist-packages (from pexpect>4.3->ipython>=5.3.0->pyvis) (0.7.0)\n",
            "Requirement already satisfied: wcwidth in /usr/local/lib/python3.10/dist-packages (from prompt-toolkit!=3.0.0,!=3.0.1,<3.1.0,>=2.0.0->ipython>=5.3.0->pyvis) (0.2.13)\n",
            "Downloading pyvis-0.3.2-py3-none-any.whl (756 kB)\n",
            "\u001b[2K   \u001b[90m━━━━━━━━━━━━━━━━━━━━━━━━━━━━━━━━━━━━━━━━\u001b[0m \u001b[32m756.0/756.0 kB\u001b[0m \u001b[31m9.4 MB/s\u001b[0m eta \u001b[36m0:00:00\u001b[0m\n",
            "\u001b[?25hUsing cached jedi-0.19.1-py2.py3-none-any.whl (1.6 MB)\n",
            "Installing collected packages: jedi, pyvis\n",
            "Successfully installed jedi-0.19.1 pyvis-0.3.2\n"
          ]
        }
      ]
    },
    {
      "cell_type": "code",
      "source": [
        "from llama_index.core.workflow import draw_all_possible_flows\n",
        "\n",
        "draw_all_possible_flows(InsuranceReActAgent, filename=\"insurance_react_agent.html\")"
      ],
      "metadata": {
        "colab": {
          "base_uri": "https://localhost:8080/"
        },
        "id": "14pvgQHg4W1U",
        "outputId": "e1c965b8-5557-4656-8cdc-7b28a8303612"
      },
      "execution_count": 32,
      "outputs": [
        {
          "output_type": "stream",
          "name": "stderr",
          "text": [
            "<ipython-input-32-517d6d1f1d76>:3: DeprecationWarning: Call to deprecated function (or staticmethod) draw_all_possible_flows. (Install `llama-index-utils-workflow` and use the import `from llama_index.utils.workflow` instead.)\n",
            "  draw_all_possible_flows(InsuranceReActAgent, filename=\"insurance_react_agent.html\")\n"
          ]
        },
        {
          "output_type": "stream",
          "name": "stdout",
          "text": [
            "insurance_react_agent.html\n"
          ]
        }
      ]
    },
    {
      "cell_type": "markdown",
      "source": [
        "![截屏2024-08-21 14.12.39.png](data:image/png;base64,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)"
      ],
      "metadata": {
        "id": "p2yza-_ekA6_"
      }
    }
  ],
  "metadata": {
    "kernelspec": {
      "display_name": "llama-index-cDlKpkFt-py3.11",
      "language": "python",
      "name": "python3"
    },
    "language_info": {
      "codemirror_mode": {
        "name": "ipython",
        "version": 3
      },
      "file_extension": ".py",
      "mimetype": "text/x-python",
      "name": "python",
      "nbconvert_exporter": "python",
      "pygments_lexer": "ipython3"
    },
    "colab": {
      "provenance": [],
      "include_colab_link": true
    }
  },
  "nbformat": 4,
  "nbformat_minor": 0
}